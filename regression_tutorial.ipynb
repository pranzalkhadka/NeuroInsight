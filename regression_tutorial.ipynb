{
 "cells": [
  {
   "cell_type": "code",
   "execution_count": 1,
   "metadata": {},
   "outputs": [],
   "source": [
    "import numpy as np\n",
    "import pandas as pd"
   ]
  },
  {
   "cell_type": "code",
   "execution_count": 2,
   "metadata": {},
   "outputs": [],
   "source": [
    "df = pd.read_csv(\"house_data.csv\")"
   ]
  },
  {
   "cell_type": "code",
   "execution_count": 3,
   "metadata": {},
   "outputs": [
    {
     "data": {
      "text/html": [
       "<div>\n",
       "<style scoped>\n",
       "    .dataframe tbody tr th:only-of-type {\n",
       "        vertical-align: middle;\n",
       "    }\n",
       "\n",
       "    .dataframe tbody tr th {\n",
       "        vertical-align: top;\n",
       "    }\n",
       "\n",
       "    .dataframe thead th {\n",
       "        text-align: right;\n",
       "    }\n",
       "</style>\n",
       "<table border=\"1\" class=\"dataframe\">\n",
       "  <thead>\n",
       "    <tr style=\"text-align: right;\">\n",
       "      <th></th>\n",
       "      <th>date</th>\n",
       "      <th>age</th>\n",
       "      <th>distance</th>\n",
       "      <th>stores</th>\n",
       "      <th>latitude</th>\n",
       "      <th>longitude</th>\n",
       "      <th>price</th>\n",
       "    </tr>\n",
       "  </thead>\n",
       "  <tbody>\n",
       "    <tr>\n",
       "      <th>0</th>\n",
       "      <td>2009</td>\n",
       "      <td>21</td>\n",
       "      <td>9</td>\n",
       "      <td>6</td>\n",
       "      <td>84</td>\n",
       "      <td>121</td>\n",
       "      <td>14264</td>\n",
       "    </tr>\n",
       "    <tr>\n",
       "      <th>1</th>\n",
       "      <td>2007</td>\n",
       "      <td>4</td>\n",
       "      <td>2</td>\n",
       "      <td>3</td>\n",
       "      <td>86</td>\n",
       "      <td>121</td>\n",
       "      <td>12032</td>\n",
       "    </tr>\n",
       "    <tr>\n",
       "      <th>2</th>\n",
       "      <td>2016</td>\n",
       "      <td>18</td>\n",
       "      <td>3</td>\n",
       "      <td>7</td>\n",
       "      <td>90</td>\n",
       "      <td>120</td>\n",
       "      <td>13560</td>\n",
       "    </tr>\n",
       "    <tr>\n",
       "      <th>3</th>\n",
       "      <td>2002</td>\n",
       "      <td>13</td>\n",
       "      <td>2</td>\n",
       "      <td>2</td>\n",
       "      <td>80</td>\n",
       "      <td>128</td>\n",
       "      <td>12029</td>\n",
       "    </tr>\n",
       "    <tr>\n",
       "      <th>4</th>\n",
       "      <td>2014</td>\n",
       "      <td>25</td>\n",
       "      <td>5</td>\n",
       "      <td>8</td>\n",
       "      <td>81</td>\n",
       "      <td>122</td>\n",
       "      <td>14157</td>\n",
       "    </tr>\n",
       "  </tbody>\n",
       "</table>\n",
       "</div>"
      ],
      "text/plain": [
       "   date  age  distance  stores  latitude  longitude  price\n",
       "0  2009   21         9       6        84        121  14264\n",
       "1  2007    4         2       3        86        121  12032\n",
       "2  2016   18         3       7        90        120  13560\n",
       "3  2002   13         2       2        80        128  12029\n",
       "4  2014   25         5       8        81        122  14157"
      ]
     },
     "execution_count": 3,
     "metadata": {},
     "output_type": "execute_result"
    }
   ],
   "source": [
    "df.head()"
   ]
  },
  {
   "cell_type": "code",
   "execution_count": 4,
   "metadata": {},
   "outputs": [
    {
     "data": {
      "text/html": [
       "<div>\n",
       "<style scoped>\n",
       "    .dataframe tbody tr th:only-of-type {\n",
       "        vertical-align: middle;\n",
       "    }\n",
       "\n",
       "    .dataframe tbody tr th {\n",
       "        vertical-align: top;\n",
       "    }\n",
       "\n",
       "    .dataframe thead th {\n",
       "        text-align: right;\n",
       "    }\n",
       "</style>\n",
       "<table border=\"1\" class=\"dataframe\">\n",
       "  <thead>\n",
       "    <tr style=\"text-align: right;\">\n",
       "      <th></th>\n",
       "      <th>age</th>\n",
       "      <th>distance</th>\n",
       "      <th>stores</th>\n",
       "      <th>latitude</th>\n",
       "      <th>longitude</th>\n",
       "      <th>price</th>\n",
       "    </tr>\n",
       "  </thead>\n",
       "  <tbody>\n",
       "    <tr>\n",
       "      <th>0</th>\n",
       "      <td>0.181384</td>\n",
       "      <td>1.257002</td>\n",
       "      <td>0.345224</td>\n",
       "      <td>-0.307212</td>\n",
       "      <td>-1.260799</td>\n",
       "      <td>0.350088</td>\n",
       "    </tr>\n",
       "    <tr>\n",
       "      <th>1</th>\n",
       "      <td>-1.319118</td>\n",
       "      <td>-0.930610</td>\n",
       "      <td>-0.609312</td>\n",
       "      <td>0.325301</td>\n",
       "      <td>-1.260799</td>\n",
       "      <td>-1.836486</td>\n",
       "    </tr>\n",
       "    <tr>\n",
       "      <th>2</th>\n",
       "      <td>-0.083410</td>\n",
       "      <td>-0.618094</td>\n",
       "      <td>0.663402</td>\n",
       "      <td>1.590328</td>\n",
       "      <td>-1.576456</td>\n",
       "      <td>-0.339584</td>\n",
       "    </tr>\n",
       "    <tr>\n",
       "      <th>3</th>\n",
       "      <td>-0.524735</td>\n",
       "      <td>-0.930610</td>\n",
       "      <td>-0.927491</td>\n",
       "      <td>-1.572238</td>\n",
       "      <td>0.948803</td>\n",
       "      <td>-1.839425</td>\n",
       "    </tr>\n",
       "    <tr>\n",
       "      <th>4</th>\n",
       "      <td>0.534444</td>\n",
       "      <td>0.006938</td>\n",
       "      <td>0.981581</td>\n",
       "      <td>-1.255981</td>\n",
       "      <td>-0.945141</td>\n",
       "      <td>0.245266</td>\n",
       "    </tr>\n",
       "  </tbody>\n",
       "</table>\n",
       "</div>"
      ],
      "text/plain": [
       "        age  distance    stores  latitude  longitude     price\n",
       "0  0.181384  1.257002  0.345224 -0.307212  -1.260799  0.350088\n",
       "1 -1.319118 -0.930610 -0.609312  0.325301  -1.260799 -1.836486\n",
       "2 -0.083410 -0.618094  0.663402  1.590328  -1.576456 -0.339584\n",
       "3 -0.524735 -0.930610 -0.927491 -1.572238   0.948803 -1.839425\n",
       "4  0.534444  0.006938  0.981581 -1.255981  -0.945141  0.245266"
      ]
     },
     "execution_count": 4,
     "metadata": {},
     "output_type": "execute_result"
    }
   ],
   "source": [
    "df = df.iloc[:,1:]\n",
    "df_norm = (df - df.mean()) / df.std()\n",
    "df_norm.head()"
   ]
  },
  {
   "cell_type": "code",
   "execution_count": 5,
   "metadata": {},
   "outputs": [],
   "source": [
    "def df_column_switch(df, column1, column2):\n",
    "    i = list(df.columns)\n",
    "    a, b = i.index(column1), i.index(column2)\n",
    "    i[b], i[a] = i[a], i[b]\n",
    "    df = df[i]\n",
    "    return df\n",
    "\n",
    "df = df_column_switch(df_norm, \"age\", \"price\")"
   ]
  },
  {
   "cell_type": "code",
   "execution_count": 6,
   "metadata": {},
   "outputs": [
    {
     "data": {
      "text/html": [
       "<div>\n",
       "<style scoped>\n",
       "    .dataframe tbody tr th:only-of-type {\n",
       "        vertical-align: middle;\n",
       "    }\n",
       "\n",
       "    .dataframe tbody tr th {\n",
       "        vertical-align: top;\n",
       "    }\n",
       "\n",
       "    .dataframe thead th {\n",
       "        text-align: right;\n",
       "    }\n",
       "</style>\n",
       "<table border=\"1\" class=\"dataframe\">\n",
       "  <thead>\n",
       "    <tr style=\"text-align: right;\">\n",
       "      <th></th>\n",
       "      <th>price</th>\n",
       "      <th>distance</th>\n",
       "      <th>stores</th>\n",
       "      <th>latitude</th>\n",
       "      <th>longitude</th>\n",
       "      <th>age</th>\n",
       "    </tr>\n",
       "  </thead>\n",
       "  <tbody>\n",
       "    <tr>\n",
       "      <th>0</th>\n",
       "      <td>0.350088</td>\n",
       "      <td>1.257002</td>\n",
       "      <td>0.345224</td>\n",
       "      <td>-0.307212</td>\n",
       "      <td>-1.260799</td>\n",
       "      <td>0.181384</td>\n",
       "    </tr>\n",
       "    <tr>\n",
       "      <th>1</th>\n",
       "      <td>-1.836486</td>\n",
       "      <td>-0.930610</td>\n",
       "      <td>-0.609312</td>\n",
       "      <td>0.325301</td>\n",
       "      <td>-1.260799</td>\n",
       "      <td>-1.319118</td>\n",
       "    </tr>\n",
       "    <tr>\n",
       "      <th>2</th>\n",
       "      <td>-0.339584</td>\n",
       "      <td>-0.618094</td>\n",
       "      <td>0.663402</td>\n",
       "      <td>1.590328</td>\n",
       "      <td>-1.576456</td>\n",
       "      <td>-0.083410</td>\n",
       "    </tr>\n",
       "    <tr>\n",
       "      <th>3</th>\n",
       "      <td>-1.839425</td>\n",
       "      <td>-0.930610</td>\n",
       "      <td>-0.927491</td>\n",
       "      <td>-1.572238</td>\n",
       "      <td>0.948803</td>\n",
       "      <td>-0.524735</td>\n",
       "    </tr>\n",
       "    <tr>\n",
       "      <th>4</th>\n",
       "      <td>0.245266</td>\n",
       "      <td>0.006938</td>\n",
       "      <td>0.981581</td>\n",
       "      <td>-1.255981</td>\n",
       "      <td>-0.945141</td>\n",
       "      <td>0.534444</td>\n",
       "    </tr>\n",
       "  </tbody>\n",
       "</table>\n",
       "</div>"
      ],
      "text/plain": [
       "      price  distance    stores  latitude  longitude       age\n",
       "0  0.350088  1.257002  0.345224 -0.307212  -1.260799  0.181384\n",
       "1 -1.836486 -0.930610 -0.609312  0.325301  -1.260799 -1.319118\n",
       "2 -0.339584 -0.618094  0.663402  1.590328  -1.576456 -0.083410\n",
       "3 -1.839425 -0.930610 -0.927491 -1.572238   0.948803 -0.524735\n",
       "4  0.245266  0.006938  0.981581 -1.255981  -0.945141  0.534444"
      ]
     },
     "execution_count": 6,
     "metadata": {},
     "output_type": "execute_result"
    }
   ],
   "source": [
    "df.head()"
   ]
  },
  {
   "cell_type": "code",
   "execution_count": 7,
   "metadata": {},
   "outputs": [
    {
     "data": {
      "text/plain": [
       "False"
      ]
     },
     "execution_count": 7,
     "metadata": {},
     "output_type": "execute_result"
    }
   ],
   "source": [
    "df.isnull().values.any()"
   ]
  },
  {
   "cell_type": "code",
   "execution_count": 8,
   "metadata": {},
   "outputs": [
    {
     "data": {
      "text/plain": [
       "False"
      ]
     },
     "execution_count": 8,
     "metadata": {},
     "output_type": "execute_result"
    }
   ],
   "source": [
    "df.duplicated().values.any()"
   ]
  },
  {
   "cell_type": "code",
   "execution_count": 9,
   "metadata": {},
   "outputs": [
    {
     "name": "stdout",
     "output_type": "stream",
     "text": [
      "m: 5000\n",
      "n: 6\n"
     ]
    }
   ],
   "source": [
    "data = np.array(df)\n",
    "m,n = data.shape\n",
    "print(f\"m: {m}\")\n",
    "print(f\"n: {n}\")"
   ]
  },
  {
   "cell_type": "code",
   "execution_count": 10,
   "metadata": {},
   "outputs": [],
   "source": [
    "val_data = data[0 : 1000].T\n",
    "Y_val = val_data[0]\n",
    "X_val = val_data[1 : n]\n",
    "\n",
    "train_data = data[1000 : m].T\n",
    "Y_train = train_data[0]\n",
    "X_train = train_data[1 : n]"
   ]
  },
  {
   "cell_type": "code",
   "execution_count": 11,
   "metadata": {},
   "outputs": [
    {
     "name": "stdout",
     "output_type": "stream",
     "text": [
      "(5, 4000)\n",
      "(4000,)\n",
      "(5, 1000)\n",
      "(1000,)\n"
     ]
    }
   ],
   "source": [
    "print(X_train.shape)\n",
    "print(Y_train.shape)\n",
    "print(X_val.shape)\n",
    "print(Y_val.shape)"
   ]
  },
  {
   "cell_type": "code",
   "execution_count": 12,
   "metadata": {},
   "outputs": [],
   "source": [
    "from src.parameter_initialization import ParameterInitialization\n",
    "from src.forward_propagation import ForwardPropagationForRegression\n",
    "from src.back_propagation import BackPropagationForRegression\n",
    "from src.cost_function import UpdateParameters\n",
    "from src.evaluation import Evaluation\n",
    "from src.visualization import Visualization"
   ]
  },
  {
   "cell_type": "code",
   "execution_count": 13,
   "metadata": {},
   "outputs": [],
   "source": [
    "n_classes = 1\n",
    "n_layers = 3\n",
    "n_neurons_per_layer = 50"
   ]
  },
  {
   "cell_type": "code",
   "execution_count": 14,
   "metadata": {},
   "outputs": [],
   "source": [
    "forward_propagation = ForwardPropagationForRegression()\n",
    "back_propagation = BackPropagationForRegression()\n",
    "update_parameters = UpdateParameters()\n",
    "evaluation = Evaluation()\n",
    "visualization = Visualization()\n",
    "parameter_init = ParameterInitialization(X_train.shape[0], n_layers, n_neurons_per_layer, n_classes)"
   ]
  },
  {
   "cell_type": "code",
   "execution_count": 15,
   "metadata": {},
   "outputs": [],
   "source": [
    "weights, biases = parameter_init.initialize_parameters()"
   ]
  },
  {
   "cell_type": "code",
   "execution_count": 16,
   "metadata": {},
   "outputs": [
    {
     "data": {
      "application/vnd.plotly.v1+json": {
       "config": {
        "plotlyServerURL": "https://plot.ly"
       },
       "data": [
        {
         "marker": {
          "size": 30
         },
         "mode": "markers",
         "name": "Input Layer",
         "text": [
          "Feature 1",
          "Feature 2",
          "Feature 3",
          "Feature 4",
          "Feature 5"
         ],
         "type": "scatter",
         "x": [
          0.5,
          0.5,
          0.5,
          0.5,
          0.5
         ],
         "y": [
          0,
          1,
          2,
          3,
          4
         ]
        },
        {
         "marker": {
          "size": 30
         },
         "mode": "markers",
         "name": "Hidden Layer 1",
         "text": [
          "Neuron 1",
          "Neuron 2",
          "Neuron 3",
          "Neuron 4",
          "Neuron 5",
          "Neuron 6",
          "Neuron 7",
          "Neuron 8",
          "Neuron 9",
          "Neuron 10",
          "Neuron 11",
          "Neuron 12",
          "Neuron 13",
          "Neuron 14",
          "Neuron 15",
          "Neuron 16",
          "Neuron 17",
          "Neuron 18",
          "Neuron 19",
          "Neuron 20",
          "Neuron 21",
          "Neuron 22",
          "Neuron 23",
          "Neuron 24",
          "Neuron 25",
          "Neuron 26",
          "Neuron 27",
          "Neuron 28",
          "Neuron 29",
          "Neuron 30",
          "Neuron 31",
          "Neuron 32",
          "Neuron 33",
          "Neuron 34",
          "Neuron 35",
          "Neuron 36",
          "Neuron 37",
          "Neuron 38",
          "Neuron 39",
          "Neuron 40",
          "Neuron 41",
          "Neuron 42",
          "Neuron 43",
          "Neuron 44",
          "Neuron 45",
          "Neuron 46",
          "Neuron 47",
          "Neuron 48",
          "Neuron 49",
          "Neuron 50"
         ],
         "type": "scatter",
         "x": [
          1,
          1,
          1,
          1,
          1,
          1,
          1,
          1,
          1,
          1,
          1,
          1,
          1,
          1,
          1,
          1,
          1,
          1,
          1,
          1,
          1,
          1,
          1,
          1,
          1,
          1,
          1,
          1,
          1,
          1,
          1,
          1,
          1,
          1,
          1,
          1,
          1,
          1,
          1,
          1,
          1,
          1,
          1,
          1,
          1,
          1,
          1,
          1,
          1,
          1
         ],
         "y": [
          0,
          1,
          2,
          3,
          4,
          5,
          6,
          7,
          8,
          9,
          10,
          11,
          12,
          13,
          14,
          15,
          16,
          17,
          18,
          19,
          20,
          21,
          22,
          23,
          24,
          25,
          26,
          27,
          28,
          29,
          30,
          31,
          32,
          33,
          34,
          35,
          36,
          37,
          38,
          39,
          40,
          41,
          42,
          43,
          44,
          45,
          46,
          47,
          48,
          49
         ]
        },
        {
         "marker": {
          "size": 30
         },
         "mode": "markers",
         "name": "Hidden Layer 2",
         "text": [
          "Neuron 1",
          "Neuron 2",
          "Neuron 3",
          "Neuron 4",
          "Neuron 5",
          "Neuron 6",
          "Neuron 7",
          "Neuron 8",
          "Neuron 9",
          "Neuron 10",
          "Neuron 11",
          "Neuron 12",
          "Neuron 13",
          "Neuron 14",
          "Neuron 15",
          "Neuron 16",
          "Neuron 17",
          "Neuron 18",
          "Neuron 19",
          "Neuron 20",
          "Neuron 21",
          "Neuron 22",
          "Neuron 23",
          "Neuron 24",
          "Neuron 25",
          "Neuron 26",
          "Neuron 27",
          "Neuron 28",
          "Neuron 29",
          "Neuron 30",
          "Neuron 31",
          "Neuron 32",
          "Neuron 33",
          "Neuron 34",
          "Neuron 35",
          "Neuron 36",
          "Neuron 37",
          "Neuron 38",
          "Neuron 39",
          "Neuron 40",
          "Neuron 41",
          "Neuron 42",
          "Neuron 43",
          "Neuron 44",
          "Neuron 45",
          "Neuron 46",
          "Neuron 47",
          "Neuron 48",
          "Neuron 49",
          "Neuron 50"
         ],
         "type": "scatter",
         "x": [
          2,
          2,
          2,
          2,
          2,
          2,
          2,
          2,
          2,
          2,
          2,
          2,
          2,
          2,
          2,
          2,
          2,
          2,
          2,
          2,
          2,
          2,
          2,
          2,
          2,
          2,
          2,
          2,
          2,
          2,
          2,
          2,
          2,
          2,
          2,
          2,
          2,
          2,
          2,
          2,
          2,
          2,
          2,
          2,
          2,
          2,
          2,
          2,
          2,
          2
         ],
         "y": [
          0,
          1,
          2,
          3,
          4,
          5,
          6,
          7,
          8,
          9,
          10,
          11,
          12,
          13,
          14,
          15,
          16,
          17,
          18,
          19,
          20,
          21,
          22,
          23,
          24,
          25,
          26,
          27,
          28,
          29,
          30,
          31,
          32,
          33,
          34,
          35,
          36,
          37,
          38,
          39,
          40,
          41,
          42,
          43,
          44,
          45,
          46,
          47,
          48,
          49
         ]
        },
        {
         "marker": {
          "size": 30
         },
         "mode": "markers",
         "name": "Hidden Layer 3",
         "text": [
          "Neuron 1",
          "Neuron 2",
          "Neuron 3",
          "Neuron 4",
          "Neuron 5",
          "Neuron 6",
          "Neuron 7",
          "Neuron 8",
          "Neuron 9",
          "Neuron 10",
          "Neuron 11",
          "Neuron 12",
          "Neuron 13",
          "Neuron 14",
          "Neuron 15",
          "Neuron 16",
          "Neuron 17",
          "Neuron 18",
          "Neuron 19",
          "Neuron 20",
          "Neuron 21",
          "Neuron 22",
          "Neuron 23",
          "Neuron 24",
          "Neuron 25",
          "Neuron 26",
          "Neuron 27",
          "Neuron 28",
          "Neuron 29",
          "Neuron 30",
          "Neuron 31",
          "Neuron 32",
          "Neuron 33",
          "Neuron 34",
          "Neuron 35",
          "Neuron 36",
          "Neuron 37",
          "Neuron 38",
          "Neuron 39",
          "Neuron 40",
          "Neuron 41",
          "Neuron 42",
          "Neuron 43",
          "Neuron 44",
          "Neuron 45",
          "Neuron 46",
          "Neuron 47",
          "Neuron 48",
          "Neuron 49",
          "Neuron 50"
         ],
         "type": "scatter",
         "x": [
          3,
          3,
          3,
          3,
          3,
          3,
          3,
          3,
          3,
          3,
          3,
          3,
          3,
          3,
          3,
          3,
          3,
          3,
          3,
          3,
          3,
          3,
          3,
          3,
          3,
          3,
          3,
          3,
          3,
          3,
          3,
          3,
          3,
          3,
          3,
          3,
          3,
          3,
          3,
          3,
          3,
          3,
          3,
          3,
          3,
          3,
          3,
          3,
          3,
          3
         ],
         "y": [
          0,
          1,
          2,
          3,
          4,
          5,
          6,
          7,
          8,
          9,
          10,
          11,
          12,
          13,
          14,
          15,
          16,
          17,
          18,
          19,
          20,
          21,
          22,
          23,
          24,
          25,
          26,
          27,
          28,
          29,
          30,
          31,
          32,
          33,
          34,
          35,
          36,
          37,
          38,
          39,
          40,
          41,
          42,
          43,
          44,
          45,
          46,
          47,
          48,
          49
         ]
        },
        {
         "marker": {
          "size": 30
         },
         "mode": "markers",
         "name": "Output Layer",
         "text": [
          "Class 1"
         ],
         "type": "scatter",
         "x": [
          4
         ],
         "y": [
          0
         ]
        }
       ],
       "layout": {
        "showlegend": true,
        "template": {
         "data": {
          "bar": [
           {
            "error_x": {
             "color": "#2a3f5f"
            },
            "error_y": {
             "color": "#2a3f5f"
            },
            "marker": {
             "line": {
              "color": "#E5ECF6",
              "width": 0.5
             },
             "pattern": {
              "fillmode": "overlay",
              "size": 10,
              "solidity": 0.2
             }
            },
            "type": "bar"
           }
          ],
          "barpolar": [
           {
            "marker": {
             "line": {
              "color": "#E5ECF6",
              "width": 0.5
             },
             "pattern": {
              "fillmode": "overlay",
              "size": 10,
              "solidity": 0.2
             }
            },
            "type": "barpolar"
           }
          ],
          "carpet": [
           {
            "aaxis": {
             "endlinecolor": "#2a3f5f",
             "gridcolor": "white",
             "linecolor": "white",
             "minorgridcolor": "white",
             "startlinecolor": "#2a3f5f"
            },
            "baxis": {
             "endlinecolor": "#2a3f5f",
             "gridcolor": "white",
             "linecolor": "white",
             "minorgridcolor": "white",
             "startlinecolor": "#2a3f5f"
            },
            "type": "carpet"
           }
          ],
          "choropleth": [
           {
            "colorbar": {
             "outlinewidth": 0,
             "ticks": ""
            },
            "type": "choropleth"
           }
          ],
          "contour": [
           {
            "colorbar": {
             "outlinewidth": 0,
             "ticks": ""
            },
            "colorscale": [
             [
              0,
              "#0d0887"
             ],
             [
              0.1111111111111111,
              "#46039f"
             ],
             [
              0.2222222222222222,
              "#7201a8"
             ],
             [
              0.3333333333333333,
              "#9c179e"
             ],
             [
              0.4444444444444444,
              "#bd3786"
             ],
             [
              0.5555555555555556,
              "#d8576b"
             ],
             [
              0.6666666666666666,
              "#ed7953"
             ],
             [
              0.7777777777777778,
              "#fb9f3a"
             ],
             [
              0.8888888888888888,
              "#fdca26"
             ],
             [
              1,
              "#f0f921"
             ]
            ],
            "type": "contour"
           }
          ],
          "contourcarpet": [
           {
            "colorbar": {
             "outlinewidth": 0,
             "ticks": ""
            },
            "type": "contourcarpet"
           }
          ],
          "heatmap": [
           {
            "colorbar": {
             "outlinewidth": 0,
             "ticks": ""
            },
            "colorscale": [
             [
              0,
              "#0d0887"
             ],
             [
              0.1111111111111111,
              "#46039f"
             ],
             [
              0.2222222222222222,
              "#7201a8"
             ],
             [
              0.3333333333333333,
              "#9c179e"
             ],
             [
              0.4444444444444444,
              "#bd3786"
             ],
             [
              0.5555555555555556,
              "#d8576b"
             ],
             [
              0.6666666666666666,
              "#ed7953"
             ],
             [
              0.7777777777777778,
              "#fb9f3a"
             ],
             [
              0.8888888888888888,
              "#fdca26"
             ],
             [
              1,
              "#f0f921"
             ]
            ],
            "type": "heatmap"
           }
          ],
          "heatmapgl": [
           {
            "colorbar": {
             "outlinewidth": 0,
             "ticks": ""
            },
            "colorscale": [
             [
              0,
              "#0d0887"
             ],
             [
              0.1111111111111111,
              "#46039f"
             ],
             [
              0.2222222222222222,
              "#7201a8"
             ],
             [
              0.3333333333333333,
              "#9c179e"
             ],
             [
              0.4444444444444444,
              "#bd3786"
             ],
             [
              0.5555555555555556,
              "#d8576b"
             ],
             [
              0.6666666666666666,
              "#ed7953"
             ],
             [
              0.7777777777777778,
              "#fb9f3a"
             ],
             [
              0.8888888888888888,
              "#fdca26"
             ],
             [
              1,
              "#f0f921"
             ]
            ],
            "type": "heatmapgl"
           }
          ],
          "histogram": [
           {
            "marker": {
             "pattern": {
              "fillmode": "overlay",
              "size": 10,
              "solidity": 0.2
             }
            },
            "type": "histogram"
           }
          ],
          "histogram2d": [
           {
            "colorbar": {
             "outlinewidth": 0,
             "ticks": ""
            },
            "colorscale": [
             [
              0,
              "#0d0887"
             ],
             [
              0.1111111111111111,
              "#46039f"
             ],
             [
              0.2222222222222222,
              "#7201a8"
             ],
             [
              0.3333333333333333,
              "#9c179e"
             ],
             [
              0.4444444444444444,
              "#bd3786"
             ],
             [
              0.5555555555555556,
              "#d8576b"
             ],
             [
              0.6666666666666666,
              "#ed7953"
             ],
             [
              0.7777777777777778,
              "#fb9f3a"
             ],
             [
              0.8888888888888888,
              "#fdca26"
             ],
             [
              1,
              "#f0f921"
             ]
            ],
            "type": "histogram2d"
           }
          ],
          "histogram2dcontour": [
           {
            "colorbar": {
             "outlinewidth": 0,
             "ticks": ""
            },
            "colorscale": [
             [
              0,
              "#0d0887"
             ],
             [
              0.1111111111111111,
              "#46039f"
             ],
             [
              0.2222222222222222,
              "#7201a8"
             ],
             [
              0.3333333333333333,
              "#9c179e"
             ],
             [
              0.4444444444444444,
              "#bd3786"
             ],
             [
              0.5555555555555556,
              "#d8576b"
             ],
             [
              0.6666666666666666,
              "#ed7953"
             ],
             [
              0.7777777777777778,
              "#fb9f3a"
             ],
             [
              0.8888888888888888,
              "#fdca26"
             ],
             [
              1,
              "#f0f921"
             ]
            ],
            "type": "histogram2dcontour"
           }
          ],
          "mesh3d": [
           {
            "colorbar": {
             "outlinewidth": 0,
             "ticks": ""
            },
            "type": "mesh3d"
           }
          ],
          "parcoords": [
           {
            "line": {
             "colorbar": {
              "outlinewidth": 0,
              "ticks": ""
             }
            },
            "type": "parcoords"
           }
          ],
          "pie": [
           {
            "automargin": true,
            "type": "pie"
           }
          ],
          "scatter": [
           {
            "fillpattern": {
             "fillmode": "overlay",
             "size": 10,
             "solidity": 0.2
            },
            "type": "scatter"
           }
          ],
          "scatter3d": [
           {
            "line": {
             "colorbar": {
              "outlinewidth": 0,
              "ticks": ""
             }
            },
            "marker": {
             "colorbar": {
              "outlinewidth": 0,
              "ticks": ""
             }
            },
            "type": "scatter3d"
           }
          ],
          "scattercarpet": [
           {
            "marker": {
             "colorbar": {
              "outlinewidth": 0,
              "ticks": ""
             }
            },
            "type": "scattercarpet"
           }
          ],
          "scattergeo": [
           {
            "marker": {
             "colorbar": {
              "outlinewidth": 0,
              "ticks": ""
             }
            },
            "type": "scattergeo"
           }
          ],
          "scattergl": [
           {
            "marker": {
             "colorbar": {
              "outlinewidth": 0,
              "ticks": ""
             }
            },
            "type": "scattergl"
           }
          ],
          "scattermapbox": [
           {
            "marker": {
             "colorbar": {
              "outlinewidth": 0,
              "ticks": ""
             }
            },
            "type": "scattermapbox"
           }
          ],
          "scatterpolar": [
           {
            "marker": {
             "colorbar": {
              "outlinewidth": 0,
              "ticks": ""
             }
            },
            "type": "scatterpolar"
           }
          ],
          "scatterpolargl": [
           {
            "marker": {
             "colorbar": {
              "outlinewidth": 0,
              "ticks": ""
             }
            },
            "type": "scatterpolargl"
           }
          ],
          "scatterternary": [
           {
            "marker": {
             "colorbar": {
              "outlinewidth": 0,
              "ticks": ""
             }
            },
            "type": "scatterternary"
           }
          ],
          "surface": [
           {
            "colorbar": {
             "outlinewidth": 0,
             "ticks": ""
            },
            "colorscale": [
             [
              0,
              "#0d0887"
             ],
             [
              0.1111111111111111,
              "#46039f"
             ],
             [
              0.2222222222222222,
              "#7201a8"
             ],
             [
              0.3333333333333333,
              "#9c179e"
             ],
             [
              0.4444444444444444,
              "#bd3786"
             ],
             [
              0.5555555555555556,
              "#d8576b"
             ],
             [
              0.6666666666666666,
              "#ed7953"
             ],
             [
              0.7777777777777778,
              "#fb9f3a"
             ],
             [
              0.8888888888888888,
              "#fdca26"
             ],
             [
              1,
              "#f0f921"
             ]
            ],
            "type": "surface"
           }
          ],
          "table": [
           {
            "cells": {
             "fill": {
              "color": "#EBF0F8"
             },
             "line": {
              "color": "white"
             }
            },
            "header": {
             "fill": {
              "color": "#C8D4E3"
             },
             "line": {
              "color": "white"
             }
            },
            "type": "table"
           }
          ]
         },
         "layout": {
          "annotationdefaults": {
           "arrowcolor": "#2a3f5f",
           "arrowhead": 0,
           "arrowwidth": 1
          },
          "autotypenumbers": "strict",
          "coloraxis": {
           "colorbar": {
            "outlinewidth": 0,
            "ticks": ""
           }
          },
          "colorscale": {
           "diverging": [
            [
             0,
             "#8e0152"
            ],
            [
             0.1,
             "#c51b7d"
            ],
            [
             0.2,
             "#de77ae"
            ],
            [
             0.3,
             "#f1b6da"
            ],
            [
             0.4,
             "#fde0ef"
            ],
            [
             0.5,
             "#f7f7f7"
            ],
            [
             0.6,
             "#e6f5d0"
            ],
            [
             0.7,
             "#b8e186"
            ],
            [
             0.8,
             "#7fbc41"
            ],
            [
             0.9,
             "#4d9221"
            ],
            [
             1,
             "#276419"
            ]
           ],
           "sequential": [
            [
             0,
             "#0d0887"
            ],
            [
             0.1111111111111111,
             "#46039f"
            ],
            [
             0.2222222222222222,
             "#7201a8"
            ],
            [
             0.3333333333333333,
             "#9c179e"
            ],
            [
             0.4444444444444444,
             "#bd3786"
            ],
            [
             0.5555555555555556,
             "#d8576b"
            ],
            [
             0.6666666666666666,
             "#ed7953"
            ],
            [
             0.7777777777777778,
             "#fb9f3a"
            ],
            [
             0.8888888888888888,
             "#fdca26"
            ],
            [
             1,
             "#f0f921"
            ]
           ],
           "sequentialminus": [
            [
             0,
             "#0d0887"
            ],
            [
             0.1111111111111111,
             "#46039f"
            ],
            [
             0.2222222222222222,
             "#7201a8"
            ],
            [
             0.3333333333333333,
             "#9c179e"
            ],
            [
             0.4444444444444444,
             "#bd3786"
            ],
            [
             0.5555555555555556,
             "#d8576b"
            ],
            [
             0.6666666666666666,
             "#ed7953"
            ],
            [
             0.7777777777777778,
             "#fb9f3a"
            ],
            [
             0.8888888888888888,
             "#fdca26"
            ],
            [
             1,
             "#f0f921"
            ]
           ]
          },
          "colorway": [
           "#636efa",
           "#EF553B",
           "#00cc96",
           "#ab63fa",
           "#FFA15A",
           "#19d3f3",
           "#FF6692",
           "#B6E880",
           "#FF97FF",
           "#FECB52"
          ],
          "font": {
           "color": "#2a3f5f"
          },
          "geo": {
           "bgcolor": "white",
           "lakecolor": "white",
           "landcolor": "#E5ECF6",
           "showlakes": true,
           "showland": true,
           "subunitcolor": "white"
          },
          "hoverlabel": {
           "align": "left"
          },
          "hovermode": "closest",
          "mapbox": {
           "style": "light"
          },
          "paper_bgcolor": "white",
          "plot_bgcolor": "#E5ECF6",
          "polar": {
           "angularaxis": {
            "gridcolor": "white",
            "linecolor": "white",
            "ticks": ""
           },
           "bgcolor": "#E5ECF6",
           "radialaxis": {
            "gridcolor": "white",
            "linecolor": "white",
            "ticks": ""
           }
          },
          "scene": {
           "xaxis": {
            "backgroundcolor": "#E5ECF6",
            "gridcolor": "white",
            "gridwidth": 2,
            "linecolor": "white",
            "showbackground": true,
            "ticks": "",
            "zerolinecolor": "white"
           },
           "yaxis": {
            "backgroundcolor": "#E5ECF6",
            "gridcolor": "white",
            "gridwidth": 2,
            "linecolor": "white",
            "showbackground": true,
            "ticks": "",
            "zerolinecolor": "white"
           },
           "zaxis": {
            "backgroundcolor": "#E5ECF6",
            "gridcolor": "white",
            "gridwidth": 2,
            "linecolor": "white",
            "showbackground": true,
            "ticks": "",
            "zerolinecolor": "white"
           }
          },
          "shapedefaults": {
           "line": {
            "color": "#2a3f5f"
           }
          },
          "ternary": {
           "aaxis": {
            "gridcolor": "white",
            "linecolor": "white",
            "ticks": ""
           },
           "baxis": {
            "gridcolor": "white",
            "linecolor": "white",
            "ticks": ""
           },
           "bgcolor": "#E5ECF6",
           "caxis": {
            "gridcolor": "white",
            "linecolor": "white",
            "ticks": ""
           }
          },
          "title": {
           "x": 0.05
          },
          "xaxis": {
           "automargin": true,
           "gridcolor": "white",
           "linecolor": "white",
           "ticks": "",
           "title": {
            "standoff": 15
           },
           "zerolinecolor": "white",
           "zerolinewidth": 2
          },
          "yaxis": {
           "automargin": true,
           "gridcolor": "white",
           "linecolor": "white",
           "ticks": "",
           "title": {
            "standoff": 15
           },
           "zerolinecolor": "white",
           "zerolinewidth": 2
          }
         }
        },
        "title": {
         "text": "Neural Network Architecture"
        },
        "xaxis": {
         "title": {
          "text": "Layers"
         }
        },
        "yaxis": {
         "title": {
          "text": "Neurons"
         }
        }
       }
      }
     },
     "metadata": {},
     "output_type": "display_data"
    }
   ],
   "source": [
    "visualization.plot_neural_network_architecture(X_train.shape[0], n_layers, n_neurons_per_layer, n_classes)"
   ]
  },
  {
   "cell_type": "code",
   "execution_count": 17,
   "metadata": {},
   "outputs": [],
   "source": [
    "epochs = 1000\n",
    "learning_rate = 0.1"
   ]
  },
  {
   "cell_type": "code",
   "execution_count": 19,
   "metadata": {},
   "outputs": [
    {
     "name": "stdout",
     "output_type": "stream",
     "text": [
      "Epoch: 0\n",
      "Rmse: 1.6821183286233952\n",
      "~~~~~~~~~~~~~~~~~\n",
      "Epoch: 10\n",
      "Rmse: 0.6279128999200912\n",
      "~~~~~~~~~~~~~~~~~\n",
      "Epoch: 20\n",
      "Rmse: 0.521547114512472\n",
      "~~~~~~~~~~~~~~~~~\n",
      "Epoch: 30\n",
      "Rmse: 0.48223384328119434\n",
      "~~~~~~~~~~~~~~~~~\n",
      "Epoch: 40\n",
      "Rmse: 0.4593885284640104\n",
      "~~~~~~~~~~~~~~~~~\n",
      "Epoch: 50\n",
      "Rmse: 0.4448369466737376\n",
      "~~~~~~~~~~~~~~~~~\n",
      "Epoch: 60\n",
      "Rmse: 0.4349790044729734\n",
      "~~~~~~~~~~~~~~~~~\n",
      "Epoch: 70\n",
      "Rmse: 0.42820202655387724\n",
      "~~~~~~~~~~~~~~~~~\n",
      "Epoch: 80\n",
      "Rmse: 0.4232971147754707\n",
      "~~~~~~~~~~~~~~~~~\n",
      "Epoch: 90\n",
      "Rmse: 0.4195223197493605\n",
      "~~~~~~~~~~~~~~~~~\n",
      "Epoch: 100\n",
      "Rmse: 0.41648885133201824\n",
      "~~~~~~~~~~~~~~~~~\n",
      "Epoch: 110\n",
      "Rmse: 0.4139230010482195\n",
      "~~~~~~~~~~~~~~~~~\n",
      "Epoch: 120\n",
      "Rmse: 0.4117153457150524\n",
      "~~~~~~~~~~~~~~~~~\n",
      "Epoch: 130\n",
      "Rmse: 0.4097916421285515\n",
      "~~~~~~~~~~~~~~~~~\n",
      "Epoch: 140\n",
      "Rmse: 0.4080516945490317\n",
      "~~~~~~~~~~~~~~~~~\n",
      "Epoch: 150\n",
      "Rmse: 0.40646032419370914\n",
      "~~~~~~~~~~~~~~~~~\n",
      "Epoch: 160\n",
      "Rmse: 0.40501283240924185\n",
      "~~~~~~~~~~~~~~~~~\n",
      "Epoch: 170\n",
      "Rmse: 0.4036709557444968\n",
      "~~~~~~~~~~~~~~~~~\n",
      "Epoch: 180\n",
      "Rmse: 0.40239158864077995\n",
      "~~~~~~~~~~~~~~~~~\n",
      "Epoch: 190\n",
      "Rmse: 0.4011991950759066\n",
      "~~~~~~~~~~~~~~~~~\n",
      "Epoch: 200\n",
      "Rmse: 0.40010596685345284\n",
      "~~~~~~~~~~~~~~~~~\n",
      "Epoch: 210\n",
      "Rmse: 0.3990754861263819\n",
      "~~~~~~~~~~~~~~~~~\n",
      "Epoch: 220\n",
      "Rmse: 0.39810385859774233\n",
      "~~~~~~~~~~~~~~~~~\n",
      "Epoch: 230\n",
      "Rmse: 0.39721739310017495\n",
      "~~~~~~~~~~~~~~~~~\n",
      "Epoch: 240\n",
      "Rmse: 0.39638331944191957\n",
      "~~~~~~~~~~~~~~~~~\n",
      "Epoch: 250\n",
      "Rmse: 0.39559710932655867\n",
      "~~~~~~~~~~~~~~~~~\n",
      "Epoch: 260\n",
      "Rmse: 0.394864216129793\n",
      "~~~~~~~~~~~~~~~~~\n",
      "Epoch: 270\n",
      "Rmse: 0.3941766200772142\n",
      "~~~~~~~~~~~~~~~~~\n",
      "Epoch: 280\n",
      "Rmse: 0.39351227842711256\n",
      "~~~~~~~~~~~~~~~~~\n",
      "Epoch: 290\n",
      "Rmse: 0.3928741460508151\n",
      "~~~~~~~~~~~~~~~~~\n",
      "Epoch: 300\n",
      "Rmse: 0.39226443265609773\n",
      "~~~~~~~~~~~~~~~~~\n",
      "Epoch: 310\n",
      "Rmse: 0.39167383238868403\n",
      "~~~~~~~~~~~~~~~~~\n",
      "Epoch: 320\n",
      "Rmse: 0.3911086292975379\n",
      "~~~~~~~~~~~~~~~~~\n",
      "Epoch: 330\n",
      "Rmse: 0.39056810082705445\n",
      "~~~~~~~~~~~~~~~~~\n",
      "Epoch: 340\n",
      "Rmse: 0.39005446382862674\n",
      "~~~~~~~~~~~~~~~~~\n",
      "Epoch: 350\n",
      "Rmse: 0.3895716157520223\n",
      "~~~~~~~~~~~~~~~~~\n",
      "Epoch: 360\n",
      "Rmse: 0.3891220919465219\n",
      "~~~~~~~~~~~~~~~~~\n",
      "Epoch: 370\n",
      "Rmse: 0.3886938958265041\n",
      "~~~~~~~~~~~~~~~~~\n",
      "Epoch: 380\n",
      "Rmse: 0.3882793256770286\n",
      "~~~~~~~~~~~~~~~~~\n",
      "Epoch: 390\n",
      "Rmse: 0.3878776818761049\n",
      "~~~~~~~~~~~~~~~~~\n",
      "Epoch: 400\n",
      "Rmse: 0.3874839947866192\n",
      "~~~~~~~~~~~~~~~~~\n",
      "Epoch: 410\n",
      "Rmse: 0.38710521588461616\n",
      "~~~~~~~~~~~~~~~~~\n",
      "Epoch: 420\n",
      "Rmse: 0.3867472900413362\n",
      "~~~~~~~~~~~~~~~~~\n",
      "Epoch: 430\n",
      "Rmse: 0.38640266104289167\n",
      "~~~~~~~~~~~~~~~~~\n",
      "Epoch: 440\n",
      "Rmse: 0.38607873027352463\n",
      "~~~~~~~~~~~~~~~~~\n",
      "Epoch: 450\n",
      "Rmse: 0.38576869842534617\n",
      "~~~~~~~~~~~~~~~~~\n",
      "Epoch: 460\n",
      "Rmse: 0.38546852913923263\n",
      "~~~~~~~~~~~~~~~~~\n",
      "Epoch: 470\n",
      "Rmse: 0.38517499200317157\n",
      "~~~~~~~~~~~~~~~~~\n",
      "Epoch: 480\n",
      "Rmse: 0.3848891739454097\n",
      "~~~~~~~~~~~~~~~~~\n",
      "Epoch: 490\n",
      "Rmse: 0.3846139932816096\n",
      "~~~~~~~~~~~~~~~~~\n",
      "Epoch: 500\n",
      "Rmse: 0.3843494149857388\n",
      "~~~~~~~~~~~~~~~~~\n",
      "Epoch: 510\n",
      "Rmse: 0.3840930834537984\n",
      "~~~~~~~~~~~~~~~~~\n",
      "Epoch: 520\n",
      "Rmse: 0.38384499542030454\n",
      "~~~~~~~~~~~~~~~~~\n",
      "Epoch: 530\n",
      "Rmse: 0.38360082619327396\n",
      "~~~~~~~~~~~~~~~~~\n",
      "Epoch: 540\n",
      "Rmse: 0.3833608344615057\n",
      "~~~~~~~~~~~~~~~~~\n",
      "Epoch: 550\n",
      "Rmse: 0.38312717461722473\n",
      "~~~~~~~~~~~~~~~~~\n",
      "Epoch: 560\n",
      "Rmse: 0.3828998688836626\n",
      "~~~~~~~~~~~~~~~~~\n",
      "Epoch: 570\n",
      "Rmse: 0.3826742833074545\n",
      "~~~~~~~~~~~~~~~~~\n",
      "Epoch: 580\n",
      "Rmse: 0.38245509587437393\n",
      "~~~~~~~~~~~~~~~~~\n",
      "Epoch: 590\n",
      "Rmse: 0.3822451491999576\n",
      "~~~~~~~~~~~~~~~~~\n",
      "Epoch: 600\n",
      "Rmse: 0.3820305951771809\n",
      "~~~~~~~~~~~~~~~~~\n",
      "Epoch: 610\n",
      "Rmse: 0.38181488564214233\n",
      "~~~~~~~~~~~~~~~~~\n",
      "Epoch: 620\n",
      "Rmse: 0.38160437923597973\n",
      "~~~~~~~~~~~~~~~~~\n",
      "Epoch: 630\n",
      "Rmse: 0.3813969124244562\n",
      "~~~~~~~~~~~~~~~~~\n",
      "Epoch: 640\n",
      "Rmse: 0.3811914259507522\n",
      "~~~~~~~~~~~~~~~~~\n",
      "Epoch: 650\n",
      "Rmse: 0.38098678921724016\n",
      "~~~~~~~~~~~~~~~~~\n",
      "Epoch: 660\n",
      "Rmse: 0.38078834494323477\n",
      "~~~~~~~~~~~~~~~~~\n",
      "Epoch: 670\n",
      "Rmse: 0.3805924932436195\n",
      "~~~~~~~~~~~~~~~~~\n",
      "Epoch: 680\n",
      "Rmse: 0.3803994709711219\n",
      "~~~~~~~~~~~~~~~~~\n",
      "Epoch: 690\n",
      "Rmse: 0.38020843927024794\n",
      "~~~~~~~~~~~~~~~~~\n",
      "Epoch: 700\n",
      "Rmse: 0.3800198371890099\n",
      "~~~~~~~~~~~~~~~~~\n",
      "Epoch: 710\n",
      "Rmse: 0.3798340602726431\n",
      "~~~~~~~~~~~~~~~~~\n",
      "Epoch: 720\n",
      "Rmse: 0.37965044434038453\n",
      "~~~~~~~~~~~~~~~~~\n",
      "Epoch: 730\n",
      "Rmse: 0.3794726486383271\n",
      "~~~~~~~~~~~~~~~~~\n",
      "Epoch: 740\n",
      "Rmse: 0.3792959419487363\n",
      "~~~~~~~~~~~~~~~~~\n",
      "Epoch: 750\n",
      "Rmse: 0.37912391322907996\n",
      "~~~~~~~~~~~~~~~~~\n",
      "Epoch: 760\n",
      "Rmse: 0.37895511433943524\n",
      "~~~~~~~~~~~~~~~~~\n",
      "Epoch: 770\n",
      "Rmse: 0.3787890612796887\n",
      "~~~~~~~~~~~~~~~~~\n",
      "Epoch: 780\n",
      "Rmse: 0.37861925366961846\n",
      "~~~~~~~~~~~~~~~~~\n",
      "Epoch: 790\n",
      "Rmse: 0.3784476703852003\n",
      "~~~~~~~~~~~~~~~~~\n",
      "Epoch: 800\n",
      "Rmse: 0.3782766316932763\n",
      "~~~~~~~~~~~~~~~~~\n",
      "Epoch: 810\n",
      "Rmse: 0.37810961140021254\n",
      "~~~~~~~~~~~~~~~~~\n",
      "Epoch: 820\n",
      "Rmse: 0.3779442209066291\n",
      "~~~~~~~~~~~~~~~~~\n",
      "Epoch: 830\n",
      "Rmse: 0.3777825687778863\n",
      "~~~~~~~~~~~~~~~~~\n",
      "Epoch: 840\n",
      "Rmse: 0.37762385644742485\n",
      "~~~~~~~~~~~~~~~~~\n",
      "Epoch: 850\n",
      "Rmse: 0.37746850584954195\n",
      "~~~~~~~~~~~~~~~~~\n",
      "Epoch: 860\n",
      "Rmse: 0.3773133110212963\n",
      "~~~~~~~~~~~~~~~~~\n",
      "Epoch: 870\n",
      "Rmse: 0.3771618137741542\n",
      "~~~~~~~~~~~~~~~~~\n",
      "Epoch: 880\n",
      "Rmse: 0.37701253927851563\n",
      "~~~~~~~~~~~~~~~~~\n",
      "Epoch: 890\n",
      "Rmse: 0.3768636859212307\n",
      "~~~~~~~~~~~~~~~~~\n",
      "Epoch: 900\n",
      "Rmse: 0.3767173998658013\n",
      "~~~~~~~~~~~~~~~~~\n",
      "Epoch: 910\n",
      "Rmse: 0.3765739578112949\n",
      "~~~~~~~~~~~~~~~~~\n",
      "Epoch: 920\n",
      "Rmse: 0.37643476216766364\n",
      "~~~~~~~~~~~~~~~~~\n",
      "Epoch: 930\n",
      "Rmse: 0.3762974043652509\n",
      "~~~~~~~~~~~~~~~~~\n",
      "Epoch: 940\n",
      "Rmse: 0.3761615484377477\n",
      "~~~~~~~~~~~~~~~~~\n",
      "Epoch: 950\n",
      "Rmse: 0.3760265594433015\n",
      "~~~~~~~~~~~~~~~~~\n",
      "Epoch: 960\n",
      "Rmse: 0.3758926550717807\n",
      "~~~~~~~~~~~~~~~~~\n",
      "Epoch: 970\n",
      "Rmse: 0.3757557479874545\n",
      "~~~~~~~~~~~~~~~~~\n",
      "Epoch: 980\n",
      "Rmse: 0.37561829610510916\n",
      "~~~~~~~~~~~~~~~~~\n",
      "Epoch: 990\n",
      "Rmse: 0.3754847044730301\n",
      "~~~~~~~~~~~~~~~~~\n"
     ]
    }
   ],
   "source": [
    "losses = []\n",
    "\n",
    "for i in range(epochs):\n",
    "    forward_output = forward_propagation.forward_propagation_regression(weights, biases, X_train)\n",
    "    back_output = back_propagation.back_propagation_regression(forward_output, weights, X_train, Y_train, m)\n",
    "    derivatives = {key: value for key, value in back_output.items() if key.startswith('d')}\n",
    "    weights, biases = update_parameters.update_parameters(weights, biases, derivatives, learning_rate)\n",
    "    \n",
    "    key, value = list(forward_output.items())[-1]\n",
    "\n",
    "    loss = evaluation.root_mean_squared_error(value.flatten(), Y_train)\n",
    "    losses.append(loss)\n",
    "\n",
    "    if i % 10 == 0:\n",
    "        print(\"Epoch:\", i)\n",
    "        Y_predicted = value.flatten()\n",
    "        print(f\"Rmse: {(evaluation.root_mean_squared_error(Y_predicted, Y_train))}\")\n",
    "        print(\"~~~~~~~~~~~~~~~~~\") "
   ]
  },
  {
   "cell_type": "code",
   "execution_count": 20,
   "metadata": {},
   "outputs": [
    {
     "data": {
      "image/png": "[encoded data removed]",
      "text/plain": [
       "<Figure size 640x480 with 1 Axes>"
      ]
     },
     "metadata": {},
     "output_type": "display_data"
    }
   ],
   "source": [
    "visualization.plot_loss_curve(losses)"
   ]
  },
  {
   "cell_type": "code",
   "execution_count": 21,
   "metadata": {},
   "outputs": [
    {
     "name": "stdout",
     "output_type": "stream",
     "text": [
      "The rmse on validation set is 0.4134494508230484\n"
     ]
    }
   ],
   "source": [
    "print(f\"The rmse on validation set is {evaluation.regression_validation_predictions(weights, biases, X_val, Y_val)}\")"
   ]
  },
  {
   "cell_type": "code",
   "execution_count": null,
   "metadata": {},
   "outputs": [],
   "source": []
  }
 ],
 "metadata": {
  "kernelspec": {
   "display_name": "Python 3",
   "language": "python",
   "name": "python3"
  },
  "language_info": {
   "codemirror_mode": {
    "name": "ipython",
    "version": 3
   },
   "file_extension": ".py",
   "mimetype": "text/x-python",
   "name": "python",
   "nbconvert_exporter": "python",
   "pygments_lexer": "ipython3",
   "version": "3.10.12"
  }
 },
 "nbformat": 4,
 "nbformat_minor": 2
}
