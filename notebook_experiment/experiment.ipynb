{
 "cells": [
  {
   "cell_type": "code",
   "execution_count": 78,
   "metadata": {},
   "outputs": [],
   "source": [
    "import numpy as np\n",
    "import pandas as pd\n",
    "\n",
    "df = pd.read_csv(\"data/train.csv\")\n",
    "data = np.array(df)\n",
    "m,n = data.shape\n",
    "np.random.shuffle(data)\n",
    "\n",
    "val_data = data[0 : 2000].T\n",
    "Y_val = val_data[0]\n",
    "X_val = val_data[1 : n]\n",
    "X_val = X_val / 255.\n",
    "\n",
    "train_data = data[2000 : m].T\n",
    "Y_train = train_data[0]\n",
    "X_train = train_data[1 : n]\n",
    "X_train = X_train / 255."
   ]
  },
  {
   "cell_type": "code",
   "execution_count": 72,
   "metadata": {},
   "outputs": [],
   "source": [
    "def parameterss(hidden_layers, n_neurons, n_classes):\n",
    "        weights = {}\n",
    "        biases = {}\n",
    "\n",
    "        for i in range(hidden_layers):\n",
    "\n",
    "            if i == 0:\n",
    "                #For the first hidden layer\n",
    "                weights[f\"W{i + 1}\"] = np.random.rand(n_neurons, 784) - 0.5\n",
    "                biases[f\"b{i + 1}\"] = np.random.rand(n_neurons, 1) - 0.5\n",
    "            else:\n",
    "                # For rest of the hidden layers\n",
    "                weights[f\"W{i + 1}\"] = np.random.rand(n_neurons, n_neurons) - 0.5\n",
    "                biases[f\"b{i + 1}\"] = np.random.rand(n_neurons, 1) - 0.5\n",
    "\n",
    "        #For final output layer\n",
    "        weights[f\"W{hidden_layers + 1}\"] = np.random.rand(n_classes, n_neurons) - 0.5\n",
    "        biases[f\"b{hidden_layers + 1}\"] = np.random.rand(n_classes, 1) - 0.5\n",
    "\n",
    "        return weights, biases"
   ]
  },
  {
   "cell_type": "code",
   "execution_count": null,
   "metadata": {},
   "outputs": [],
   "source": [
    "w, b = parameterss(2,300,10)"
   ]
  },
  {
   "cell_type": "code",
   "execution_count": null,
   "metadata": {},
   "outputs": [],
   "source": [
    "w.keys()"
   ]
  },
  {
   "cell_type": "code",
   "execution_count": null,
   "metadata": {},
   "outputs": [],
   "source": [
    "b.keys()"
   ]
  },
  {
   "cell_type": "code",
   "execution_count": null,
   "metadata": {},
   "outputs": [],
   "source": [
    "len(w)"
   ]
  },
  {
   "cell_type": "code",
   "execution_count": null,
   "metadata": {},
   "outputs": [],
   "source": [
    "def ReLU(Z):\n",
    "    return np.maximum(Z ,0)\n",
    "    \n",
    "    \n",
    "def Softmax(Z):\n",
    "    Z = np.float128(Z)\n",
    "    A = np.exp(Z) / sum(np.exp(Z))\n",
    "    return A\n",
    "\n",
    "def one_hot_encoding(Y):\n",
    "    one_hot_Y = np.zeros((Y.size, Y.max() + 1))\n",
    "    one_hot_Y[np.arange(Y.size), Y] = 1\n",
    "    one_hot_Y = one_hot_Y.T\n",
    "\n",
    "    return one_hot_Y\n",
    "\n",
    "def derivative_ReLU(Z):\n",
    "    return Z > 0"
   ]
  },
  {
   "cell_type": "code",
   "execution_count": null,
   "metadata": {},
   "outputs": [],
   "source": [
    "def forward_propagation(weights, biases, X):\n",
    "    l = len(weights)\n",
    "    p = {}\n",
    "\n",
    "    for i in range(1, l+1):\n",
    "        if i == 1 :\n",
    "            p[f\"Z{i}\"] = weights['W1'].dot(X) + biases['b1']\n",
    "            p[f\"A{i}\"] = ReLU( weights['W1'].dot(X) + biases['b1'])\n",
    "        elif i > 1 and i < l:\n",
    "            p[f\"Z{i}\"] = weights[f\"W{i}\"].dot(p[f\"A{i-1}\"]) + biases[f\"b{i}\"]\n",
    "            p[f\"A{i}\"] = ReLU(weights[f\"W{i}\"].dot(p[f\"A{i-1}\"]) + biases[f\"b{i}\"])\n",
    "        elif i == l:\n",
    "            p[f\"Z{i}\"] = weights[f\"W{i}\"].dot(p[f\"A{i-1}\"]) + biases[f\"b{i}\"]\n",
    "            p[f\"A{i}\"] = Softmax(weights[f\"W{i}\"].dot(p[f\"A{i-1}\"]) + biases[f\"b{i}\"])\n",
    "\n",
    "    return p"
   ]
  },
  {
   "cell_type": "code",
   "execution_count": null,
   "metadata": {},
   "outputs": [],
   "source": [
    "a = forward_propagation(p1, p2, X_train)"
   ]
  },
  {
   "cell_type": "code",
   "execution_count": null,
   "metadata": {},
   "outputs": [],
   "source": [
    "a.keys()"
   ]
  },
  {
   "cell_type": "code",
   "execution_count": null,
   "metadata": {},
   "outputs": [],
   "source": [
    "def back_propagation(a, weights, X_train, Y_train):\n",
    "    one_hot_Y = one_hot_encoding(Y_train)\n",
    "    p = {}\n",
    "    l = len(weights)\n",
    "\n",
    "    for i in range(l, -1+1, -1):\n",
    "        if i == l:\n",
    "            p[f\"dZ{i}\"] = a[f\"A{i}\"] - one_hot_Y\n",
    "            p[f\"dW{i}\"] = 1 / m * p[f\"dZ{i}\"].dot(a[f\"A{i-1}\"].T)\n",
    "            p[f\"db{i}\"] = 1 / m * np.sum(p[f\"dZ{i}\"], axis=1, keepdims=True)\n",
    "        elif i < l and i > 1:\n",
    "            p[f\"dZ{i}\"] = weights[f\"W{i+1}\"].T.dot(p[f\"dZ{i+1}\"]) * derivative_ReLU(a[f\"Z{i}\"])\n",
    "            p[f\"dW{i}\"] = 1 / m * p[f\"dZ{i}\"].dot(a[f\"A{i-1}\"].T)\n",
    "            p[f\"db{i}\"] = 1 / m * np.sum(p[f\"dZ{i}\"], axis=1, keepdims=True)\n",
    "        elif i == 1:\n",
    "            p[f\"dZ{i}\"] = weights[f\"W{i+1}\"].T.dot(p[f\"dZ{i+1}\"]) * derivative_ReLU(a[f\"Z{i}\"])\n",
    "            p[f\"dW{i}\"] = 1 / m * p[f\"dZ{i}\"].dot(X_train.T)\n",
    "            p[f\"db{i}\"] = 1 / m * np.sum(p[f\"dZ{i}\"], axis=1, keepdims=True)\n",
    "\n",
    "    return  p"
   ]
  },
  {
   "cell_type": "code",
   "execution_count": null,
   "metadata": {},
   "outputs": [],
   "source": [
    "s = back_propagation(a, w, X_train, Y_train)"
   ]
  },
  {
   "cell_type": "code",
   "execution_count": null,
   "metadata": {},
   "outputs": [],
   "source": [
    "# l = 3\n",
    "# for i in range(l,-1+1,-1):\n",
    "#     print(i)"
   ]
  },
  {
   "cell_type": "code",
   "execution_count": null,
   "metadata": {},
   "outputs": [],
   "source": [
    "s.keys()"
   ]
  },
  {
   "cell_type": "code",
   "execution_count": null,
   "metadata": {},
   "outputs": [],
   "source": [
    "def update_parameters(weights, biases, s, alpha):\n",
    "    p1 = {}\n",
    "    p2 = {}\n",
    "\n",
    "    l = len(weights)\n",
    "\n",
    "    for i in range(1, l + 1):\n",
    "        p1[f\"W{i}\"] = weights[f\"W{i}\"] - alpha * s[f\"dW{i}\"]\n",
    "        p2[f\"b{i}\"] = biases[f\"b{i}\"] - alpha * s[f\"db{i}\"]\n",
    "\n",
    "    return p1, p2"
   ]
  },
  {
   "cell_type": "code",
   "execution_count": null,
   "metadata": {},
   "outputs": [],
   "source": [
    "p1, p2 = update_parameters(w, b, s, 0.1)"
   ]
  },
  {
   "cell_type": "code",
   "execution_count": null,
   "metadata": {},
   "outputs": [],
   "source": [
    "p1.keys()"
   ]
  },
  {
   "cell_type": "code",
   "execution_count": null,
   "metadata": {},
   "outputs": [],
   "source": [
    "p2.keys()"
   ]
  },
  {
   "cell_type": "code",
   "execution_count": null,
   "metadata": {},
   "outputs": [],
   "source": [
    "def predictions(A):\n",
    "    return np.argmax(A, axis = 0)\n",
    "    \n",
    "\n",
    "def accuracy(predictions, Y):\n",
    "    return np.sum(predictions == Y) / Y.size"
   ]
  },
  {
   "cell_type": "code",
   "execution_count": null,
   "metadata": {},
   "outputs": [],
   "source": [
    "last_element_key, last_element_value = list(a.items())[-1]\n",
    "print(last_element_key)"
   ]
  },
  {
   "cell_type": "code",
   "execution_count": null,
   "metadata": {},
   "outputs": [],
   "source": [
    "prediction = predictions(last_element_value)"
   ]
  },
  {
   "cell_type": "code",
   "execution_count": null,
   "metadata": {},
   "outputs": [],
   "source": [
    "prediction"
   ]
  },
  {
   "cell_type": "code",
   "execution_count": null,
   "metadata": {},
   "outputs": [],
   "source": [
    "accuracy(prediction, Y_train)"
   ]
  },
  {
   "cell_type": "code",
   "execution_count": null,
   "metadata": {},
   "outputs": [],
   "source": []
  }
 ],
 "metadata": {
  "kernelspec": {
   "display_name": "venv",
   "language": "python",
   "name": "python3"
  },
  "language_info": {
   "codemirror_mode": {
    "name": "ipython",
    "version": 3
   },
   "file_extension": ".py",
   "mimetype": "text/x-python",
   "name": "python",
   "nbconvert_exporter": "python",
   "pygments_lexer": "ipython3",
   "version": "3.10.12"
  }
 },
 "nbformat": 4,
 "nbformat_minor": 2
}
