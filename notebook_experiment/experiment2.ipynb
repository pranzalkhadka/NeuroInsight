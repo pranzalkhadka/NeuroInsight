{
 "cells": [
  {
   "cell_type": "code",
   "execution_count": 1,
   "metadata": {},
   "outputs": [],
   "source": [
    "import numpy as np\n",
    "import pandas as pd"
   ]
  },
  {
   "cell_type": "code",
   "execution_count": 2,
   "metadata": {},
   "outputs": [],
   "source": [
    "df = pd.read_csv(\"/home/pranjal/Downloads/custom_neural_network_library/housing_train.csv\")"
   ]
  },
  {
   "cell_type": "code",
   "execution_count": 3,
   "metadata": {},
   "outputs": [],
   "source": [
    "def df_column_switch(df, column1, column2):\n",
    "    i = list(df.columns)\n",
    "    a, b = i.index(column1), i.index(column2)\n",
    "    i[b], i[a] = i[a], i[b]\n",
    "    df = df[i]\n",
    "    return df\n",
    "\n",
    "df = df_column_switch(df, \"longitude\", \"median_house_value\")"
   ]
  },
  {
   "cell_type": "code",
   "execution_count": 4,
   "metadata": {},
   "outputs": [
    {
     "name": "stdout",
     "output_type": "stream",
     "text": [
      "m:17000\n",
      "n:9\n"
     ]
    }
   ],
   "source": [
    "data = np.array(df)\n",
    "m,n = data.shape\n",
    "np.random.shuffle(data)\n",
    "print(f\"m:{m}\")\n",
    "print(f\"n:{n}\")"
   ]
  },
  {
   "cell_type": "code",
   "execution_count": 5,
   "metadata": {},
   "outputs": [],
   "source": [
    "val_data = data[0 : 3000].T\n",
    "Y_val = val_data[0]\n",
    "X_val = val_data[1 : n]\n",
    "X_val = X_val / 255.\n",
    "\n",
    "train_data = data[3000 : m].T\n",
    "Y_train = train_data[0]\n",
    "X_train = train_data[1 : n]\n",
    "X_train = X_train / 255."
   ]
  },
  {
   "cell_type": "code",
   "execution_count": 6,
   "metadata": {},
   "outputs": [
    {
     "name": "stdout",
     "output_type": "stream",
     "text": [
      "(8, 14000)\n",
      "(8, 3000)\n",
      "(14000,)\n",
      "(3000,)\n"
     ]
    }
   ],
   "source": [
    "print(X_train.shape)\n",
    "print(X_val.shape)\n",
    "print(Y_train.shape)\n",
    "print(Y_val.shape)"
   ]
  },
  {
   "cell_type": "code",
   "execution_count": 7,
   "metadata": {},
   "outputs": [],
   "source": [
    "def parameterss(hidden_layers, n_neurons, n_classes):\n",
    "        weights = {}\n",
    "        biases = {}\n",
    "\n",
    "        for i in range(hidden_layers):\n",
    "\n",
    "            if i == 0:\n",
    "                #For the first hidden layer\n",
    "                weights[f\"W{i + 1}\"] = np.random.rand(n_neurons, 270) - 0.5\n",
    "                biases[f\"b{i + 1}\"] = np.random.rand(n_neurons, 1) - 0.5\n",
    "            else:\n",
    "                # For rest of the hidden layers\n",
    "                weights[f\"W{i + 1}\"] = np.random.rand(n_neurons, n_neurons) - 0.5\n",
    "                biases[f\"b{i + 1}\"] = np.random.rand(n_neurons, 1) - 0.5\n",
    "\n",
    "        #For final output layer\n",
    "        weights[f\"W{hidden_layers + 1}\"] = np.random.rand(n_classes, n_neurons) - 0.5\n",
    "        biases[f\"b{hidden_layers + 1}\"] = np.random.rand(n_classes, 1) - 0.5\n",
    "\n",
    "        return weights, biases"
   ]
  },
  {
   "cell_type": "code",
   "execution_count": 8,
   "metadata": {},
   "outputs": [],
   "source": [
    "w, b = parameterss(2,300,1)"
   ]
  },
  {
   "cell_type": "code",
   "execution_count": 9,
   "metadata": {},
   "outputs": [
    {
     "data": {
      "text/plain": [
       "dict_keys(['W1', 'W2', 'W3'])"
      ]
     },
     "execution_count": 9,
     "metadata": {},
     "output_type": "execute_result"
    }
   ],
   "source": [
    "w.keys()"
   ]
  },
  {
   "cell_type": "code",
   "execution_count": 10,
   "metadata": {},
   "outputs": [
    {
     "data": {
      "text/plain": [
       "dict_keys(['b1', 'b2', 'b3'])"
      ]
     },
     "execution_count": 10,
     "metadata": {},
     "output_type": "execute_result"
    }
   ],
   "source": [
    "b.keys()"
   ]
  },
  {
   "cell_type": "code",
   "execution_count": 11,
   "metadata": {},
   "outputs": [
    {
     "data": {
      "text/plain": [
       "array([[ 0.44225761,  0.10639289, -0.43178469, ...,  0.28422916,\n",
       "        -0.17269672,  0.29221702],\n",
       "       [-0.29086162,  0.48424328, -0.09606356, ...,  0.27883471,\n",
       "         0.31524306, -0.25119692],\n",
       "       [ 0.48185101,  0.31397271,  0.06200468, ..., -0.07325756,\n",
       "         0.26107497,  0.47844716],\n",
       "       ...,\n",
       "       [-0.30767001, -0.36426386,  0.16724888, ...,  0.10324997,\n",
       "         0.2149969 ,  0.11141046],\n",
       "       [-0.17203174,  0.21825914,  0.02343457, ..., -0.35585339,\n",
       "        -0.38930771,  0.36345267],\n",
       "       [-0.07364417,  0.29866869, -0.45312715, ...,  0.03330314,\n",
       "        -0.29905392,  0.04712626]])"
      ]
     },
     "execution_count": 11,
     "metadata": {},
     "output_type": "execute_result"
    }
   ],
   "source": [
    "w['W1']"
   ]
  },
  {
   "cell_type": "code",
   "execution_count": 12,
   "metadata": {},
   "outputs": [],
   "source": [
    "def ReLU(Z):\n",
    "    return np.maximum(Z ,0)\n",
    "    \n",
    "def Linear(Z):\n",
    "    return Z   \n",
    "\n",
    "def derivative_ReLU(Z):\n",
    "    return Z > 0\n",
    "\n",
    "def derivative_linear(Z):\n",
    "    return 1"
   ]
  },
  {
   "cell_type": "code",
   "execution_count": 13,
   "metadata": {},
   "outputs": [],
   "source": [
    "def forward_propagation_regression(weights, biases, X):\n",
    "\n",
    "        l = len(weights)\n",
    "        p = {}\n",
    "\n",
    "        for i in range(1, l+1):\n",
    "\n",
    "            if i == 1 :\n",
    "\n",
    "                p[f\"Z{i}\"] = weights['W1'].dot(X) + biases['b1']\n",
    "                p[f\"A{i}\"] = ReLU( weights['W1'].dot(X) + biases['b1'])\n",
    "\n",
    "            elif i > 1 and i < l:\n",
    "\n",
    "                p[f\"Z{i}\"] = weights[f\"W{i}\"].dot(p[f\"A{i-1}\"]) + biases[f\"b{i}\"]\n",
    "                p[f\"A{i}\"] = ReLU(weights[f\"W{i}\"].dot(p[f\"A{i-1}\"]) + biases[f\"b{i}\"])\n",
    "\n",
    "            elif i == l:\n",
    "                \n",
    "                p[f\"Z{i}\"] = weights[f\"W{i}\"].dot(p[f\"A{i-1}\"]) + biases[f\"b{i}\"]\n",
    "                p[f\"A{i}\"] = Linear(weights[f\"W{i}\"].dot(p[f\"A{i-1}\"]) + biases[f\"b{i}\"])\n",
    "\n",
    "\n",
    "        return p"
   ]
  },
  {
   "cell_type": "code",
   "execution_count": 14,
   "metadata": {},
   "outputs": [
    {
     "ename": "ValueError",
     "evalue": "shapes (300,270) and (8,14000) not aligned: 270 (dim 1) != 8 (dim 0)",
     "output_type": "error",
     "traceback": [
      "\u001b[0;31m---------------------------------------------------------------------------\u001b[0m",
      "\u001b[0;31mValueError\u001b[0m                                Traceback (most recent call last)",
      "Cell \u001b[0;32mIn[14], line 1\u001b[0m\n\u001b[0;32m----> 1\u001b[0m a \u001b[38;5;241m=\u001b[39m \u001b[43mforward_propagation\u001b[49m\u001b[43m(\u001b[49m\u001b[43mw\u001b[49m\u001b[43m,\u001b[49m\u001b[43m \u001b[49m\u001b[43mb\u001b[49m\u001b[43m,\u001b[49m\u001b[43m \u001b[49m\u001b[43mX_train\u001b[49m\u001b[43m)\u001b[49m\n",
      "Cell \u001b[0;32mIn[13], line 7\u001b[0m, in \u001b[0;36mforward_propagation\u001b[0;34m(weights, biases, X)\u001b[0m\n\u001b[1;32m      5\u001b[0m \u001b[38;5;28;01mfor\u001b[39;00m i \u001b[38;5;129;01min\u001b[39;00m \u001b[38;5;28mrange\u001b[39m(\u001b[38;5;241m1\u001b[39m, l\u001b[38;5;241m+\u001b[39m\u001b[38;5;241m1\u001b[39m):\n\u001b[1;32m      6\u001b[0m     \u001b[38;5;28;01mif\u001b[39;00m i \u001b[38;5;241m==\u001b[39m \u001b[38;5;241m1\u001b[39m :\n\u001b[0;32m----> 7\u001b[0m         p[\u001b[38;5;124mf\u001b[39m\u001b[38;5;124m\"\u001b[39m\u001b[38;5;124mZ\u001b[39m\u001b[38;5;132;01m{\u001b[39;00mi\u001b[38;5;132;01m}\u001b[39;00m\u001b[38;5;124m\"\u001b[39m] \u001b[38;5;241m=\u001b[39m \u001b[43mweights\u001b[49m\u001b[43m[\u001b[49m\u001b[38;5;124;43m'\u001b[39;49m\u001b[38;5;124;43mW1\u001b[39;49m\u001b[38;5;124;43m'\u001b[39;49m\u001b[43m]\u001b[49m\u001b[38;5;241;43m.\u001b[39;49m\u001b[43mdot\u001b[49m\u001b[43m(\u001b[49m\u001b[43mX\u001b[49m\u001b[43m)\u001b[49m \u001b[38;5;241m+\u001b[39m biases[\u001b[38;5;124m'\u001b[39m\u001b[38;5;124mb1\u001b[39m\u001b[38;5;124m'\u001b[39m]\n\u001b[1;32m      8\u001b[0m         p[\u001b[38;5;124mf\u001b[39m\u001b[38;5;124m\"\u001b[39m\u001b[38;5;124mA\u001b[39m\u001b[38;5;132;01m{\u001b[39;00mi\u001b[38;5;132;01m}\u001b[39;00m\u001b[38;5;124m\"\u001b[39m] \u001b[38;5;241m=\u001b[39m ReLU( weights[\u001b[38;5;124m'\u001b[39m\u001b[38;5;124mW1\u001b[39m\u001b[38;5;124m'\u001b[39m]\u001b[38;5;241m.\u001b[39mdot(X) \u001b[38;5;241m+\u001b[39m biases[\u001b[38;5;124m'\u001b[39m\u001b[38;5;124mb1\u001b[39m\u001b[38;5;124m'\u001b[39m])\n\u001b[1;32m      9\u001b[0m     \u001b[38;5;28;01melif\u001b[39;00m i \u001b[38;5;241m>\u001b[39m \u001b[38;5;241m1\u001b[39m \u001b[38;5;129;01mand\u001b[39;00m i \u001b[38;5;241m<\u001b[39m l:\n",
      "\u001b[0;31mValueError\u001b[0m: shapes (300,270) and (8,14000) not aligned: 270 (dim 1) != 8 (dim 0)"
     ]
    }
   ],
   "source": [
    "a = forward_propagation(w, b, X_train)"
   ]
  },
  {
   "cell_type": "code",
   "execution_count": null,
   "metadata": {},
   "outputs": [],
   "source": [
    "a.keys()"
   ]
  },
  {
   "cell_type": "code",
   "execution_count": null,
   "metadata": {},
   "outputs": [],
   "source": [
    "def back_propagation(a, weights, X_train, Y_train):\n",
    "    p = {}\n",
    "    l = len(weights)\n",
    "\n",
    "    for i in range(l, -1+1, -1):\n",
    "        if i == l:\n",
    "            p[f\"dZ{i}\"] = a[f\"A{i}\"] - Y_train\n",
    "            p[f\"dW{i}\"] = 1 / m * p[f\"dZ{i}\"].dot(a[f\"A{i-1}\"].T)\n",
    "            p[f\"db{i}\"] = 1 / m * np.sum(p[f\"dZ{i}\"], axis=1, keepdims=True)\n",
    "        elif i < l and i > 1:\n",
    "            p[f\"dZ{i}\"] = weights[f\"W{i+1}\"].T.dot(p[f\"dZ{i+1}\"]) * derivative_ReLU(a[f\"Z{i}\"])\n",
    "            p[f\"dW{i}\"] = 1 / m * p[f\"dZ{i}\"].dot(a[f\"A{i-1}\"].T)\n",
    "            p[f\"db{i}\"] = 1 / m * np.sum(p[f\"dZ{i}\"], axis=1, keepdims=True)\n",
    "        elif i == 1:\n",
    "            p[f\"dZ{i}\"] = weights[f\"W{i+1}\"].T.dot(p[f\"dZ{i+1}\"]) * derivative_linear(a[f\"Z{i}\"])\n",
    "            p[f\"dW{i}\"] = 1 / m * p[f\"dZ{i}\"].dot(X_train.T)\n",
    "            p[f\"db{i}\"] = 1 / m * np.sum(p[f\"dZ{i}\"], axis=1, keepdims=True)\n",
    "\n",
    "    return  p"
   ]
  },
  {
   "cell_type": "code",
   "execution_count": null,
   "metadata": {},
   "outputs": [],
   "source": [
    "s = back_propagation(a, w, X_train, Y_train)"
   ]
  },
  {
   "cell_type": "code",
   "execution_count": null,
   "metadata": {},
   "outputs": [],
   "source": [
    "# l = 3\n",
    "# for i in range(l,-1+1,-1):\n",
    "#     print(i)"
   ]
  },
  {
   "cell_type": "code",
   "execution_count": null,
   "metadata": {},
   "outputs": [],
   "source": [
    "s.keys()"
   ]
  },
  {
   "cell_type": "code",
   "execution_count": null,
   "metadata": {},
   "outputs": [],
   "source": [
    "def update_parameters(weights, biases, s, alpha):\n",
    "    p1 = {}\n",
    "    p2 = {}\n",
    "\n",
    "    l = len(weights)\n",
    "\n",
    "    for i in range(1, l + 1):\n",
    "        p1[f\"W{i}\"] = weights[f\"W{i}\"] - alpha * s[f\"dW{i}\"]\n",
    "        p2[f\"b{i}\"] = biases[f\"b{i}\"] - alpha * s[f\"db{i}\"]\n",
    "\n",
    "    return p1, p2"
   ]
  },
  {
   "cell_type": "code",
   "execution_count": null,
   "metadata": {},
   "outputs": [],
   "source": [
    "w, b = update_parameters(w, b, s, 0.1)"
   ]
  },
  {
   "cell_type": "code",
   "execution_count": null,
   "metadata": {},
   "outputs": [],
   "source": [
    "w.keys()"
   ]
  },
  {
   "cell_type": "code",
   "execution_count": null,
   "metadata": {},
   "outputs": [],
   "source": [
    "b.keys()"
   ]
  },
  {
   "cell_type": "code",
   "execution_count": null,
   "metadata": {},
   "outputs": [],
   "source": [
    "w['W1']"
   ]
  },
  {
   "cell_type": "code",
   "execution_count": null,
   "metadata": {},
   "outputs": [],
   "source": [
    "print(a['A3'])\n",
    "print(a['A3'].shape)"
   ]
  },
  {
   "cell_type": "code",
   "execution_count": null,
   "metadata": {},
   "outputs": [],
   "source": [
    "print(Y_train)\n",
    "print(Y_train.shape)"
   ]
  },
  {
   "cell_type": "code",
   "execution_count": null,
   "metadata": {},
   "outputs": [],
   "source": [
    "def mean_squared_error(Y_true, Y_pred):\n",
    "    return np.mean((Y_true - Y_pred)**2)"
   ]
  },
  {
   "cell_type": "code",
   "execution_count": null,
   "metadata": {},
   "outputs": [],
   "source": [
    "last_element_key, last_element_value = list(a.items())[-1]\n",
    "print(last_element_key)"
   ]
  },
  {
   "cell_type": "code",
   "execution_count": null,
   "metadata": {},
   "outputs": [],
   "source": [
    "prediction = mean_squared_error(last_element_value, Y_train)"
   ]
  },
  {
   "cell_type": "code",
   "execution_count": null,
   "metadata": {},
   "outputs": [],
   "source": [
    "prediction"
   ]
  },
  {
   "cell_type": "code",
   "execution_count": null,
   "metadata": {},
   "outputs": [],
   "source": []
  },
  {
   "cell_type": "code",
   "execution_count": null,
   "metadata": {},
   "outputs": [],
   "source": []
  }
 ],
 "metadata": {
  "kernelspec": {
   "display_name": "venv",
   "language": "python",
   "name": "python3"
  },
  "language_info": {
   "codemirror_mode": {
    "name": "ipython",
    "version": 3
   },
   "file_extension": ".py",
   "mimetype": "text/x-python",
   "name": "python",
   "nbconvert_exporter": "python",
   "pygments_lexer": "ipython3",
   "version": "3.10.12"
  }
 },
 "nbformat": 4,
 "nbformat_minor": 2
}
