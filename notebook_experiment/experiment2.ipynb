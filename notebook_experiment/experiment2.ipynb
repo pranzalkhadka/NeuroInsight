{
 "cells": [
  {
   "cell_type": "code",
   "execution_count": 1,
   "metadata": {},
   "outputs": [],
   "source": [
    "import numpy as np\n",
    "import pandas as pd"
   ]
  },
  {
   "cell_type": "code",
   "execution_count": 2,
   "metadata": {},
   "outputs": [],
   "source": [
    "df = pd.read_csv(\"/home/pranjal/Downloads/custom_neural_network_library/housing_train.csv\")"
   ]
  },
  {
   "cell_type": "code",
   "execution_count": 3,
   "metadata": {},
   "outputs": [],
   "source": [
    "def df_column_switch(df, column1, column2):\n",
    "    i = list(df.columns)\n",
    "    a, b = i.index(column1), i.index(column2)\n",
    "    i[b], i[a] = i[a], i[b]\n",
    "    df = df[i]\n",
    "    return df\n",
    "\n",
    "df = df_column_switch(df, \"longitude\", \"median_house_value\")"
   ]
  },
  {
   "cell_type": "code",
   "execution_count": 4,
   "metadata": {},
   "outputs": [
    {
     "name": "stdout",
     "output_type": "stream",
     "text": [
      "m:17000\n",
      "n:9\n"
     ]
    }
   ],
   "source": [
    "data = np.array(df)\n",
    "m,n = data.shape\n",
    "np.random.shuffle(data)\n",
    "print(f\"m:{m}\")\n",
    "print(f\"n:{n}\")"
   ]
  },
  {
   "cell_type": "code",
   "execution_count": 5,
   "metadata": {},
   "outputs": [],
   "source": [
    "val_data = data[0 : 3000].T\n",
    "Y_val = val_data[0]\n",
    "X_val = val_data[1 : n]\n",
    "# X_val = X_val / 255.\n",
    "\n",
    "train_data = data[3000 : m].T\n",
    "Y_train = train_data[0]\n",
    "X_train = train_data[1 : n]\n",
    "# X_train = X_train / 255."
   ]
  },
  {
   "cell_type": "code",
   "execution_count": 6,
   "metadata": {},
   "outputs": [
    {
     "name": "stdout",
     "output_type": "stream",
     "text": [
      "(8, 14000)\n",
      "(8, 3000)\n",
      "(14000,)\n",
      "(3000,)\n"
     ]
    }
   ],
   "source": [
    "print(X_train.shape)\n",
    "print(X_val.shape)\n",
    "print(Y_train.shape)\n",
    "print(Y_val.shape)"
   ]
  },
  {
   "cell_type": "code",
   "execution_count": 7,
   "metadata": {},
   "outputs": [],
   "source": [
    "def parameterss(hidden_layers, n_neurons, n_classes):\n",
    "        weights = {}\n",
    "        biases = {}\n",
    "\n",
    "        for i in range(hidden_layers):\n",
    "\n",
    "            if i == 0:\n",
    "                #For the first hidden layer\n",
    "                weights[f\"W{i + 1}\"] = np.random.rand(n_neurons, 8) - 0.5\n",
    "                biases[f\"b{i + 1}\"] = np.random.rand(n_neurons, 1) - 0.5\n",
    "            else:\n",
    "                # For rest of the hidden layers\n",
    "                weights[f\"W{i + 1}\"] = np.random.rand(n_neurons, n_neurons) - 0.5\n",
    "                biases[f\"b{i + 1}\"] = np.random.rand(n_neurons, 1) - 0.5\n",
    "\n",
    "        #For final output layer\n",
    "        weights[f\"W{hidden_layers + 1}\"] = np.random.rand(n_classes, n_neurons) - 0.5\n",
    "        biases[f\"b{hidden_layers + 1}\"] = np.random.rand(n_classes, 1) - 0.5\n",
    "\n",
    "        return weights, biases"
   ]
  },
  {
   "cell_type": "code",
   "execution_count": 8,
   "metadata": {},
   "outputs": [],
   "source": [
    "w, b = parameterss(2,300,1)"
   ]
  },
  {
   "cell_type": "code",
   "execution_count": 9,
   "metadata": {},
   "outputs": [
    {
     "data": {
      "text/plain": [
       "dict_keys(['W1', 'W2', 'W3'])"
      ]
     },
     "execution_count": 9,
     "metadata": {},
     "output_type": "execute_result"
    }
   ],
   "source": [
    "w.keys()"
   ]
  },
  {
   "cell_type": "code",
   "execution_count": 10,
   "metadata": {},
   "outputs": [
    {
     "data": {
      "text/plain": [
       "dict_keys(['b1', 'b2', 'b3'])"
      ]
     },
     "execution_count": 10,
     "metadata": {},
     "output_type": "execute_result"
    }
   ],
   "source": [
    "b.keys()"
   ]
  },
  {
   "cell_type": "code",
   "execution_count": 11,
   "metadata": {},
   "outputs": [
    {
     "data": {
      "text/plain": [
       "array([[-0.18611549, -0.26321804, -0.32789059, ...,  0.28341736,\n",
       "        -0.31016138, -0.39242029],\n",
       "       [ 0.38437684,  0.45175106,  0.02364249, ...,  0.18276074,\n",
       "        -0.35287573, -0.38529028],\n",
       "       [ 0.3943126 , -0.02043891,  0.1958145 , ...,  0.44756814,\n",
       "        -0.26011882, -0.27570609],\n",
       "       ...,\n",
       "       [-0.29415629, -0.44589771,  0.17435828, ..., -0.45680007,\n",
       "        -0.42203831,  0.46916965],\n",
       "       [ 0.12351521,  0.37402411, -0.05652371, ..., -0.12008626,\n",
       "        -0.44333486,  0.38958878],\n",
       "       [ 0.41571924,  0.37077353, -0.02620328, ..., -0.29266299,\n",
       "        -0.0162827 , -0.28536391]])"
      ]
     },
     "execution_count": 11,
     "metadata": {},
     "output_type": "execute_result"
    }
   ],
   "source": [
    "w['W1']"
   ]
  },
  {
   "cell_type": "code",
   "execution_count": 12,
   "metadata": {},
   "outputs": [],
   "source": [
    "def ReLU(Z):\n",
    "    return np.maximum(Z ,0)\n",
    "    \n",
    "def Linear(Z):\n",
    "    return Z   \n",
    "\n",
    "def derivative_ReLU(Z):\n",
    "    return Z > 0\n",
    "\n",
    "def derivative_linear(Z):\n",
    "    return 1"
   ]
  },
  {
   "cell_type": "code",
   "execution_count": 13,
   "metadata": {},
   "outputs": [],
   "source": [
    "def forward_propagation(weights, biases, X):\n",
    "    l = len(weights)\n",
    "    p = {}\n",
    "\n",
    "    for i in range(1, l+1):\n",
    "        if i == 1 :\n",
    "            p[f\"Z{i}\"] = weights['W1'].dot(X) + biases['b1']\n",
    "            p[f\"A{i}\"] = ReLU( weights['W1'].dot(X) + biases['b1'])\n",
    "        elif i > 1 and i < l:\n",
    "            p[f\"Z{i}\"] = weights[f\"W{i}\"].dot(p[f\"A{i-1}\"]) + biases[f\"b{i}\"]\n",
    "            p[f\"A{i}\"] = ReLU(weights[f\"W{i}\"].dot(p[f\"A{i-1}\"]) + biases[f\"b{i}\"])\n",
    "        elif i == l:\n",
    "            p[f\"Z{i}\"] = weights[f\"W{i}\"].dot(p[f\"A{i-1}\"]) + biases[f\"b{i}\"]\n",
    "            p[f\"A{i}\"] = Linear(weights[f\"W{i}\"].dot(p[f\"A{i-1}\"]) + biases[f\"b{i}\"])\n",
    "\n",
    "    return p"
   ]
  },
  {
   "cell_type": "code",
   "execution_count": 14,
   "metadata": {},
   "outputs": [],
   "source": [
    "a = forward_propagation(w, b, X_train)"
   ]
  },
  {
   "cell_type": "code",
   "execution_count": 15,
   "metadata": {},
   "outputs": [
    {
     "data": {
      "text/plain": [
       "dict_keys(['Z1', 'A1', 'Z2', 'A2', 'Z3', 'A3'])"
      ]
     },
     "execution_count": 15,
     "metadata": {},
     "output_type": "execute_result"
    }
   ],
   "source": [
    "a.keys()"
   ]
  },
  {
   "cell_type": "code",
   "execution_count": 16,
   "metadata": {},
   "outputs": [],
   "source": [
    "def back_propagation(a, weights, X_train, Y_train):\n",
    "    p = {}\n",
    "    l = len(weights)\n",
    "\n",
    "    for i in range(l, -1+1, -1):\n",
    "        if i == l:\n",
    "            p[f\"dZ{i}\"] = a[f\"A{i}\"] - Y_train\n",
    "            p[f\"dW{i}\"] = 1 / m * p[f\"dZ{i}\"].dot(a[f\"A{i-1}\"].T)\n",
    "            p[f\"db{i}\"] = 1 / m * np.sum(p[f\"dZ{i}\"], axis=1, keepdims=True)\n",
    "        elif i < l and i > 1:\n",
    "            p[f\"dZ{i}\"] = weights[f\"W{i+1}\"].T.dot(p[f\"dZ{i+1}\"]) * derivative_ReLU(a[f\"Z{i}\"])\n",
    "            p[f\"dW{i}\"] = 1 / m * p[f\"dZ{i}\"].dot(a[f\"A{i-1}\"].T)\n",
    "            p[f\"db{i}\"] = 1 / m * np.sum(p[f\"dZ{i}\"], axis=1, keepdims=True)\n",
    "        elif i == 1:\n",
    "            p[f\"dZ{i}\"] = weights[f\"W{i+1}\"].T.dot(p[f\"dZ{i+1}\"]) * derivative_linear(a[f\"Z{i}\"])\n",
    "            p[f\"dW{i}\"] = 1 / m * p[f\"dZ{i}\"].dot(X_train.T)\n",
    "            p[f\"db{i}\"] = 1 / m * np.sum(p[f\"dZ{i}\"], axis=1, keepdims=True)\n",
    "\n",
    "    return  p"
   ]
  },
  {
   "cell_type": "code",
   "execution_count": 17,
   "metadata": {},
   "outputs": [],
   "source": [
    "s = back_propagation(a, w, X_train, Y_train)"
   ]
  },
  {
   "cell_type": "code",
   "execution_count": 18,
   "metadata": {},
   "outputs": [],
   "source": [
    "# l = 3\n",
    "# for i in range(l,-1+1,-1):\n",
    "#     print(i)"
   ]
  },
  {
   "cell_type": "code",
   "execution_count": 19,
   "metadata": {},
   "outputs": [
    {
     "data": {
      "text/plain": [
       "dict_keys(['dZ3', 'dW3', 'db3', 'dZ2', 'dW2', 'db2', 'dZ1', 'dW1', 'db1'])"
      ]
     },
     "execution_count": 19,
     "metadata": {},
     "output_type": "execute_result"
    }
   ],
   "source": [
    "s.keys()"
   ]
  },
  {
   "cell_type": "code",
   "execution_count": 20,
   "metadata": {},
   "outputs": [],
   "source": [
    "def update_parameters(weights, biases, s, alpha):\n",
    "    p1 = {}\n",
    "    p2 = {}\n",
    "\n",
    "    l = len(weights)\n",
    "\n",
    "    for i in range(1, l + 1):\n",
    "        p1[f\"W{i}\"] = weights[f\"W{i}\"] - alpha * s[f\"dW{i}\"]\n",
    "        p2[f\"b{i}\"] = biases[f\"b{i}\"] - alpha * s[f\"db{i}\"]\n",
    "\n",
    "    return p1, p2"
   ]
  },
  {
   "cell_type": "code",
   "execution_count": 21,
   "metadata": {},
   "outputs": [],
   "source": [
    "w, b = update_parameters(w, b, s, 0.1)"
   ]
  },
  {
   "cell_type": "code",
   "execution_count": 22,
   "metadata": {},
   "outputs": [
    {
     "data": {
      "text/plain": [
       "dict_keys(['W1', 'W2', 'W3'])"
      ]
     },
     "execution_count": 22,
     "metadata": {},
     "output_type": "execute_result"
    }
   ],
   "source": [
    "w.keys()"
   ]
  },
  {
   "cell_type": "code",
   "execution_count": 23,
   "metadata": {},
   "outputs": [
    {
     "data": {
      "text/plain": [
       "dict_keys(['b1', 'b2', 'b3'])"
      ]
     },
     "execution_count": 23,
     "metadata": {},
     "output_type": "execute_result"
    }
   ],
   "source": [
    "b.keys()"
   ]
  },
  {
   "cell_type": "code",
   "execution_count": 24,
   "metadata": {},
   "outputs": [
    {
     "data": {
      "text/plain": [
       "array([[-8.36157060e+05, -6.95920801e+05, -6.51724205e+07, ...,\n",
       "        -1.15735148e+07, -1.15437232e+05,  2.82118693e+06],\n",
       "       [-2.74315471e+05, -2.32544066e+05, -2.05483369e+07, ...,\n",
       "        -3.72852641e+06, -3.67849326e+04,  9.25662721e+05],\n",
       "       [ 3.30943800e+05,  2.77799282e+05,  2.52136586e+07, ...,\n",
       "         4.61455710e+06,  4.45789048e+04, -1.11635449e+06],\n",
       "       ...,\n",
       "       [ 1.18364295e+06,  9.85004536e+05,  9.10004702e+07, ...,\n",
       "         1.67040671e+07,  1.55242393e+05, -3.99310686e+06],\n",
       "       [ 1.14163283e+06,  9.51259858e+05,  8.71433567e+07, ...,\n",
       "         1.61487898e+07,  1.47875188e+05, -3.85461048e+06],\n",
       "       [-5.23039749e+05, -4.36869584e+05, -3.91268673e+07, ...,\n",
       "        -6.98111182e+06, -7.16788987e+04,  1.76339908e+06]])"
      ]
     },
     "execution_count": 24,
     "metadata": {},
     "output_type": "execute_result"
    }
   ],
   "source": [
    "w['W1']"
   ]
  },
  {
   "cell_type": "code",
   "execution_count": 25,
   "metadata": {},
   "outputs": [
    {
     "name": "stdout",
     "output_type": "stream",
     "text": [
      "[[16177.87939431 14245.15933601 32602.43985297 ... 34358.02927606\n",
      "  25472.21986107  7560.1677022 ]]\n",
      "(1, 14000)\n"
     ]
    }
   ],
   "source": [
    "print(a['A3'])\n",
    "print(a['A3'].shape)"
   ]
  },
  {
   "cell_type": "code",
   "execution_count": 26,
   "metadata": {},
   "outputs": [
    {
     "name": "stdout",
     "output_type": "stream",
     "text": [
      "[171100. 113900. 267500. ... 300000. 342000. 204500.]\n",
      "(14000,)\n"
     ]
    }
   ],
   "source": [
    "print(Y_train)\n",
    "print(Y_train.shape)"
   ]
  },
  {
   "cell_type": "code",
   "execution_count": 32,
   "metadata": {},
   "outputs": [],
   "source": [
    "def root_mean_squared_error(Y_predicted, Y):\n",
    "    mse = np.mean((Y_predicted - Y)**2)\n",
    "    rmse = np.sqrt(mse)\n",
    "    return rmse"
   ]
  },
  {
   "cell_type": "code",
   "execution_count": 33,
   "metadata": {},
   "outputs": [
    {
     "name": "stdout",
     "output_type": "stream",
     "text": [
      "A3\n"
     ]
    }
   ],
   "source": [
    "last_element_key, last_element_value = list(a.items())[-1]\n",
    "print(last_element_key)"
   ]
  },
  {
   "cell_type": "code",
   "execution_count": 34,
   "metadata": {},
   "outputs": [],
   "source": [
    "prediction = root_mean_squared_error(last_element_value, Y_train)"
   ]
  },
  {
   "cell_type": "code",
   "execution_count": 35,
   "metadata": {},
   "outputs": [
    {
     "data": {
      "text/plain": [
       "224957.47544948166"
      ]
     },
     "execution_count": 35,
     "metadata": {},
     "output_type": "execute_result"
    }
   ],
   "source": [
    "prediction"
   ]
  },
  {
   "cell_type": "code",
   "execution_count": null,
   "metadata": {},
   "outputs": [],
   "source": []
  },
  {
   "cell_type": "code",
   "execution_count": null,
   "metadata": {},
   "outputs": [],
   "source": []
  }
 ],
 "metadata": {
  "kernelspec": {
   "display_name": "venv",
   "language": "python",
   "name": "python3"
  },
  "language_info": {
   "codemirror_mode": {
    "name": "ipython",
    "version": 3
   },
   "file_extension": ".py",
   "mimetype": "text/x-python",
   "name": "python",
   "nbconvert_exporter": "python",
   "pygments_lexer": "ipython3",
   "version": "3.10.12"
  }
 },
 "nbformat": 4,
 "nbformat_minor": 2
}
