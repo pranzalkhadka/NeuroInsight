{
 "cells": [
  {
   "cell_type": "code",
   "execution_count": 1,
   "metadata": {},
   "outputs": [],
   "source": [
    "import numpy as np\n",
    "import pandas as pd"
   ]
  },
  {
   "cell_type": "code",
   "execution_count": 2,
   "metadata": {},
   "outputs": [],
   "source": [
    "df = pd.read_csv(\"/home/pranjal/Downloads/custom_neural_network_library/train.csv\")\n",
    "df = df.drop([\"PoolQC\",\"Fence\",\"MiscFeature\",\"FireplaceQu\",\"Alley\",\"Id\"],axis =1)"
   ]
  },
  {
   "cell_type": "code",
   "execution_count": 3,
   "metadata": {},
   "outputs": [],
   "source": [
    "df[\"LotFrontage\"] = df[\"LotFrontage\"].fillna(df[\"LotFrontage\"].median())\n",
    "df[\"MasVnrType\"] = df[\"MasVnrType\"].fillna(df[\"MasVnrType\"].mode()[0])\n",
    "df[\"MasVnrArea\"] = df[\"MasVnrArea\"].fillna(df[\"MasVnrArea\"].median())\n",
    "df[\"BsmtQual\"] = df[\"BsmtQual\"].fillna(df[\"BsmtQual\"].mode()[0])\n",
    "df[\"BsmtCond\"] = df[\"BsmtCond\"].fillna(df[\"BsmtCond\"].mode()[0])\n",
    "df[\"BsmtExposure\"] = df[\"BsmtExposure\"].fillna(df[\"BsmtExposure\"].mode()[0])\n",
    "df[\"BsmtFinType1\"] = df[\"BsmtFinType1\"].fillna(df[\"BsmtFinType1\"].mode()[0])\n",
    "df[\"BsmtFinType2\"] = df[\"BsmtFinType2\"].fillna(df[\"BsmtFinType2\"].mode()[0])\n",
    "df[\"Electrical\"] = df[\"Electrical\"].fillna(df[\"Electrical\"].mode()[0])\n",
    "df[\"GarageType\"] = df[\"GarageType\"].fillna(df[\"GarageType\"].mode()[0])\n",
    "df[\"GarageFinish\"] = df[\"GarageFinish\"].fillna(df[\"GarageFinish\"].mode()[0])\n",
    "df[\"GarageQual\"] = df[\"GarageQual\"].fillna(df[\"GarageQual\"].mode()[0])\n",
    "df[\"GarageCond\"] = df[\"GarageCond\"].fillna(df[\"GarageCond\"].mode()[0])\n",
    "df[\"GarageYrBlt\"] = df[\"GarageYrBlt\"].fillna(df[\"GarageYrBlt\"].median())    "
   ]
  },
  {
   "cell_type": "code",
   "execution_count": 4,
   "metadata": {},
   "outputs": [],
   "source": [
    "def df_column_switch(df, column1, column2):\n",
    "    i = list(df.columns)\n",
    "    a, b = i.index(column1), i.index(column2)\n",
    "    i[b], i[a] = i[a], i[b]\n",
    "    df = df[i]\n",
    "    return df\n",
    "\n",
    "df = df_column_switch(df, \"MSSubClass\", \"SalePrice\")"
   ]
  },
  {
   "cell_type": "code",
   "execution_count": 5,
   "metadata": {},
   "outputs": [],
   "source": [
    "categorical_features = df.select_dtypes(exclude='number')\n",
    "from sklearn.preprocessing import OneHotEncoder\n",
    "encoder = OneHotEncoder()\n",
    "encoded_df = pd.DataFrame(encoder.fit_transform(df[['MSZoning', 'Street', 'LotShape', 'LandContour', 'Utilities','LotConfig', 'LandSlope', 'Neighborhood', 'Condition1', 'Condition2','BldgType', 'HouseStyle', 'RoofStyle', 'RoofMatl', 'Exterior1st','Exterior2nd', 'MasVnrType', 'ExterQual', 'ExterCond', 'Foundation','BsmtQual', 'BsmtCond', 'BsmtExposure', 'BsmtFinType1', 'BsmtFinType2','Heating', 'HeatingQC', 'CentralAir', 'Electrical', 'KitchenQual','Functional', 'GarageType', 'GarageFinish', 'GarageQual', 'GarageCond','PavedDrive', 'SaleType', 'SaleCondition']]).toarray())"
   ]
  },
  {
   "cell_type": "code",
   "execution_count": 6,
   "metadata": {},
   "outputs": [],
   "source": [
    "df = df.join(encoded_df)\n",
    "df.drop(['MSZoning', 'Street', 'LotShape', 'LandContour', 'Utilities','LotConfig', 'LandSlope', 'Neighborhood', 'Condition1', 'Condition2','BldgType', 'HouseStyle', 'RoofStyle', 'RoofMatl', 'Exterior1st','Exterior2nd', 'MasVnrType', 'ExterQual', 'ExterCond', 'Foundation','BsmtQual', 'BsmtCond', 'BsmtExposure', 'BsmtFinType1', 'BsmtFinType2','Heating', 'HeatingQC', 'CentralAir', 'Electrical', 'KitchenQual','Functional', 'GarageType', 'GarageFinish', 'GarageQual', 'GarageCond','PavedDrive', 'SaleType', 'SaleCondition'],axis =1,inplace=True)"
   ]
  },
  {
   "cell_type": "code",
   "execution_count": 7,
   "metadata": {},
   "outputs": [],
   "source": [
    "df.drop_duplicates(inplace=True)\n",
    "df.reset_index(drop=True, inplace=True)"
   ]
  },
  {
   "cell_type": "code",
   "execution_count": 8,
   "metadata": {},
   "outputs": [
    {
     "name": "stdout",
     "output_type": "stream",
     "text": [
      "m:1460\n",
      "n:271\n"
     ]
    }
   ],
   "source": [
    "data = np.array(df)\n",
    "m,n = data.shape\n",
    "np.random.shuffle(data)\n",
    "print(f\"m:{m}\")\n",
    "print(f\"n:{n}\")"
   ]
  },
  {
   "cell_type": "code",
   "execution_count": 9,
   "metadata": {},
   "outputs": [],
   "source": [
    "val_data = data[0 : 300].T\n",
    "Y_val = val_data[0]\n",
    "X_val = val_data[1 : n]\n",
    "X_val = X_val / 255.\n",
    "\n",
    "train_data = data[300 : m].T\n",
    "Y_train = train_data[0]\n",
    "X_train = train_data[1 : n]\n",
    "X_train = X_train / 255."
   ]
  },
  {
   "cell_type": "code",
   "execution_count": 10,
   "metadata": {},
   "outputs": [
    {
     "name": "stdout",
     "output_type": "stream",
     "text": [
      "(270, 1160)\n",
      "(270, 300)\n",
      "(1160,)\n",
      "(300,)\n"
     ]
    }
   ],
   "source": [
    "print(X_train.shape)\n",
    "print(X_val.shape)\n",
    "print(Y_train.shape)\n",
    "print(Y_val.shape)"
   ]
  },
  {
   "cell_type": "code",
   "execution_count": 11,
   "metadata": {},
   "outputs": [
    {
     "data": {
      "text/plain": [
       "array([ 84500., 335000., 274000., ..., 385000.,  84000., 135000.])"
      ]
     },
     "execution_count": 11,
     "metadata": {},
     "output_type": "execute_result"
    }
   ],
   "source": [
    "Y_train"
   ]
  },
  {
   "cell_type": "code",
   "execution_count": 12,
   "metadata": {},
   "outputs": [],
   "source": [
    "# import numpy as np\n",
    "# import pandas as pd\n",
    "\n",
    "def parameterss(hidden_layers, n_neurons, n_classes):\n",
    "        weights = {}\n",
    "        biases = {}\n",
    "\n",
    "        for i in range(hidden_layers):\n",
    "\n",
    "            if i == 0:\n",
    "                #For the first hidden layer\n",
    "                weights[f\"W{i + 1}\"] = np.random.rand(n_neurons, 270) - 0.5\n",
    "                biases[f\"b{i + 1}\"] = np.random.rand(n_neurons, 1) - 0.5\n",
    "            else:\n",
    "                # For rest of the hidden layers\n",
    "                weights[f\"W{i + 1}\"] = np.random.rand(n_neurons, n_neurons) - 0.5\n",
    "                biases[f\"b{i + 1}\"] = np.random.rand(n_neurons, 1) - 0.5\n",
    "\n",
    "        #For final output layer\n",
    "        weights[f\"W{hidden_layers + 1}\"] = np.random.rand(n_classes, n_neurons) - 0.5\n",
    "        biases[f\"b{hidden_layers + 1}\"] = np.random.rand(n_classes, 1) - 0.5\n",
    "\n",
    "        return weights, biases"
   ]
  },
  {
   "cell_type": "code",
   "execution_count": 13,
   "metadata": {},
   "outputs": [],
   "source": [
    "w, b = parameterss(2,300,1)"
   ]
  },
  {
   "cell_type": "code",
   "execution_count": 14,
   "metadata": {},
   "outputs": [
    {
     "data": {
      "text/plain": [
       "dict_keys(['W1', 'W2', 'W3'])"
      ]
     },
     "execution_count": 14,
     "metadata": {},
     "output_type": "execute_result"
    }
   ],
   "source": [
    "w.keys()"
   ]
  },
  {
   "cell_type": "code",
   "execution_count": 15,
   "metadata": {},
   "outputs": [
    {
     "data": {
      "text/plain": [
       "dict_keys(['b1', 'b2', 'b3'])"
      ]
     },
     "execution_count": 15,
     "metadata": {},
     "output_type": "execute_result"
    }
   ],
   "source": [
    "b.keys()"
   ]
  },
  {
   "cell_type": "code",
   "execution_count": 16,
   "metadata": {},
   "outputs": [
    {
     "data": {
      "text/plain": [
       "array([[-0.36598747,  0.18860181, -0.14389046, ...,  0.3458356 ,\n",
       "         0.27280859, -0.45579935],\n",
       "       [-0.16209191,  0.05874855, -0.06122529, ..., -0.4948456 ,\n",
       "        -0.42875265, -0.27996088],\n",
       "       [-0.02059145,  0.4765527 , -0.20102457, ..., -0.25481809,\n",
       "         0.35821993, -0.14903044],\n",
       "       ...,\n",
       "       [-0.39451039, -0.07277161,  0.12503579, ...,  0.06997568,\n",
       "        -0.20822434, -0.20092325],\n",
       "       [ 0.42574971,  0.09723343, -0.30116852, ...,  0.14046083,\n",
       "         0.32263961,  0.43103306],\n",
       "       [-0.24227021,  0.32212827, -0.24530874, ..., -0.25310594,\n",
       "        -0.06930676,  0.23629953]])"
      ]
     },
     "execution_count": 16,
     "metadata": {},
     "output_type": "execute_result"
    }
   ],
   "source": [
    "w['W1']"
   ]
  },
  {
   "cell_type": "code",
   "execution_count": 17,
   "metadata": {},
   "outputs": [],
   "source": [
    "def ReLU(Z):\n",
    "    return np.maximum(Z ,0)\n",
    "    \n",
    "def Linear(Z):\n",
    "    return Z   \n",
    "\n",
    "def derivative_ReLU(Z):\n",
    "    return Z > 0\n",
    "\n",
    "def derivative_linear(Z):\n",
    "    return 1"
   ]
  },
  {
   "cell_type": "code",
   "execution_count": 18,
   "metadata": {},
   "outputs": [],
   "source": [
    "def forward_propagation(weights, biases, X):\n",
    "    l = len(weights)\n",
    "    p = {}\n",
    "\n",
    "    for i in range(1, l+1):\n",
    "        if i == 1 :\n",
    "            p[f\"Z{i}\"] = weights['W1'].dot(X) + biases['b1']\n",
    "            p[f\"A{i}\"] = ReLU( weights['W1'].dot(X) + biases['b1'])\n",
    "        elif i > 1 and i < l:\n",
    "            p[f\"Z{i}\"] = weights[f\"W{i}\"].dot(p[f\"A{i-1}\"]) + biases[f\"b{i}\"]\n",
    "            p[f\"A{i}\"] = ReLU(weights[f\"W{i}\"].dot(p[f\"A{i-1}\"]) + biases[f\"b{i}\"])\n",
    "        elif i == l:\n",
    "            p[f\"Z{i}\"] = weights[f\"W{i}\"].dot(p[f\"A{i-1}\"]) + biases[f\"b{i}\"]\n",
    "            p[f\"A{i}\"] = Linear(weights[f\"W{i}\"].dot(p[f\"A{i-1}\"]) + biases[f\"b{i}\"])\n",
    "\n",
    "    return p"
   ]
  },
  {
   "cell_type": "code",
   "execution_count": 19,
   "metadata": {},
   "outputs": [],
   "source": [
    "a = forward_propagation(w, b, X_train)"
   ]
  },
  {
   "cell_type": "code",
   "execution_count": 20,
   "metadata": {},
   "outputs": [
    {
     "data": {
      "text/plain": [
       "dict_keys(['Z1', 'A1', 'Z2', 'A2', 'Z3', 'A3'])"
      ]
     },
     "execution_count": 20,
     "metadata": {},
     "output_type": "execute_result"
    }
   ],
   "source": [
    "a.keys()"
   ]
  },
  {
   "cell_type": "code",
   "execution_count": 21,
   "metadata": {},
   "outputs": [],
   "source": [
    "def back_propagation(a, weights, X_train, Y_train):\n",
    "    p = {}\n",
    "    l = len(weights)\n",
    "\n",
    "    for i in range(l, -1+1, -1):\n",
    "        if i == l:\n",
    "            p[f\"dZ{i}\"] = a[f\"A{i}\"] - Y_train\n",
    "            p[f\"dW{i}\"] = 1 / m * p[f\"dZ{i}\"].dot(a[f\"A{i-1}\"].T)\n",
    "            p[f\"db{i}\"] = 1 / m * np.sum(p[f\"dZ{i}\"], axis=1, keepdims=True)\n",
    "        elif i < l and i > 1:\n",
    "            p[f\"dZ{i}\"] = weights[f\"W{i+1}\"].T.dot(p[f\"dZ{i+1}\"]) * derivative_ReLU(a[f\"Z{i}\"])\n",
    "            p[f\"dW{i}\"] = 1 / m * p[f\"dZ{i}\"].dot(a[f\"A{i-1}\"].T)\n",
    "            p[f\"db{i}\"] = 1 / m * np.sum(p[f\"dZ{i}\"], axis=1, keepdims=True)\n",
    "        elif i == 1:\n",
    "            p[f\"dZ{i}\"] = weights[f\"W{i+1}\"].T.dot(p[f\"dZ{i+1}\"]) * derivative_linear(a[f\"Z{i}\"])\n",
    "            p[f\"dW{i}\"] = 1 / m * p[f\"dZ{i}\"].dot(X_train.T)\n",
    "            p[f\"db{i}\"] = 1 / m * np.sum(p[f\"dZ{i}\"], axis=1, keepdims=True)\n",
    "\n",
    "    return  p"
   ]
  },
  {
   "cell_type": "code",
   "execution_count": 22,
   "metadata": {},
   "outputs": [],
   "source": [
    "s = back_propagation(a, w, X_train, Y_train)"
   ]
  },
  {
   "cell_type": "code",
   "execution_count": 23,
   "metadata": {},
   "outputs": [],
   "source": [
    "# l = 3\n",
    "# for i in range(l,-1+1,-1):\n",
    "#     print(i)"
   ]
  },
  {
   "cell_type": "code",
   "execution_count": 24,
   "metadata": {},
   "outputs": [
    {
     "data": {
      "text/plain": [
       "dict_keys(['dZ3', 'dW3', 'db3', 'dZ2', 'dW2', 'db2', 'dZ1', 'dW1', 'db1'])"
      ]
     },
     "execution_count": 24,
     "metadata": {},
     "output_type": "execute_result"
    }
   ],
   "source": [
    "s.keys()"
   ]
  },
  {
   "cell_type": "code",
   "execution_count": 25,
   "metadata": {},
   "outputs": [],
   "source": [
    "def update_parameters(weights, biases, s, alpha):\n",
    "    p1 = {}\n",
    "    p2 = {}\n",
    "\n",
    "    l = len(weights)\n",
    "\n",
    "    for i in range(1, l + 1):\n",
    "        p1[f\"W{i}\"] = weights[f\"W{i}\"] - alpha * s[f\"dW{i}\"]\n",
    "        p2[f\"b{i}\"] = biases[f\"b{i}\"] - alpha * s[f\"db{i}\"]\n",
    "\n",
    "    return p1, p2"
   ]
  },
  {
   "cell_type": "code",
   "execution_count": 26,
   "metadata": {},
   "outputs": [],
   "source": [
    "w, b = update_parameters(w, b, s, 0.1)"
   ]
  },
  {
   "cell_type": "code",
   "execution_count": 27,
   "metadata": {},
   "outputs": [
    {
     "data": {
      "text/plain": [
       "dict_keys(['W1', 'W2', 'W3'])"
      ]
     },
     "execution_count": 27,
     "metadata": {},
     "output_type": "execute_result"
    }
   ],
   "source": [
    "w.keys()"
   ]
  },
  {
   "cell_type": "code",
   "execution_count": 28,
   "metadata": {},
   "outputs": [
    {
     "data": {
      "text/plain": [
       "dict_keys(['b1', 'b2', 'b3'])"
      ]
     },
     "execution_count": 28,
     "metadata": {},
     "output_type": "execute_result"
    }
   ],
   "source": [
    "b.keys()"
   ]
  },
  {
   "cell_type": "code",
   "execution_count": 32,
   "metadata": {},
   "outputs": [
    {
     "data": {
      "text/plain": [
       "array([[-8.49954871e+03, -1.26493867e+06, -7.66922975e+02, ...,\n",
       "        -9.64601776e-01, -9.22767936e+01, -1.57750418e+01],\n",
       "       [ 3.85006191e+03,  7.35805559e+05,  3.19847212e+02, ...,\n",
       "        -2.80389879e-03,  3.82851063e+01,  5.86715957e+00],\n",
       "       [-5.99475796e+03, -9.82013249e+05, -5.24083622e+02, ...,\n",
       "        -1.14548231e+00, -6.14467650e+01, -1.10072102e+01],\n",
       "       ...,\n",
       "       [ 4.40850112e+03,  7.52221419e+05,  3.89490820e+02, ...,\n",
       "         7.46519270e-01,  4.82861180e+01,  6.67289704e+00],\n",
       "       [ 1.43551246e+03,  1.60769872e+05,  1.35990013e+02, ...,\n",
       "         3.89867730e-01,  1.69521509e+01,  3.18287025e+00],\n",
       "       [ 8.52620733e+02,  1.08892322e+05,  8.04486280e+01, ...,\n",
       "        -8.71716775e-03,  9.92710190e+00,  1.47706847e+00]])"
      ]
     },
     "execution_count": 32,
     "metadata": {},
     "output_type": "execute_result"
    }
   ],
   "source": [
    "w['W1']"
   ]
  },
  {
   "cell_type": "code",
   "execution_count": 33,
   "metadata": {},
   "outputs": [
    {
     "name": "stdout",
     "output_type": "stream",
     "text": [
      "[[ -85.49573834 -144.80322305 -184.34594336 ... -869.58066738\n",
      "  -184.46640499 -168.1783801 ]]\n",
      "(1, 1160)\n"
     ]
    }
   ],
   "source": [
    "print(a['A3'])\n",
    "print(a['A3'].shape)"
   ]
  },
  {
   "cell_type": "code",
   "execution_count": 34,
   "metadata": {},
   "outputs": [
    {
     "name": "stdout",
     "output_type": "stream",
     "text": [
      "[ 84500. 335000. 274000. ... 385000.  84000. 135000.]\n",
      "(1160,)\n"
     ]
    }
   ],
   "source": [
    "print(Y_train)\n",
    "print(Y_train.shape)"
   ]
  },
  {
   "cell_type": "code",
   "execution_count": 35,
   "metadata": {},
   "outputs": [],
   "source": [
    "def mean_squared_error(Y_true, Y_pred):\n",
    "    return np.mean((Y_true - Y_pred)**2)"
   ]
  },
  {
   "cell_type": "code",
   "execution_count": 36,
   "metadata": {},
   "outputs": [
    {
     "name": "stdout",
     "output_type": "stream",
     "text": [
      "A3\n"
     ]
    }
   ],
   "source": [
    "last_element_key, last_element_value = list(a.items())[-1]\n",
    "print(last_element_key)"
   ]
  },
  {
   "cell_type": "code",
   "execution_count": 37,
   "metadata": {},
   "outputs": [],
   "source": [
    "prediction = mean_squared_error(last_element_value, Y_train)"
   ]
  },
  {
   "cell_type": "code",
   "execution_count": 38,
   "metadata": {},
   "outputs": [
    {
     "data": {
      "text/plain": [
       "38769341433.868126"
      ]
     },
     "execution_count": 38,
     "metadata": {},
     "output_type": "execute_result"
    }
   ],
   "source": [
    "prediction"
   ]
  },
  {
   "cell_type": "code",
   "execution_count": null,
   "metadata": {},
   "outputs": [],
   "source": []
  },
  {
   "cell_type": "code",
   "execution_count": null,
   "metadata": {},
   "outputs": [],
   "source": []
  }
 ],
 "metadata": {
  "kernelspec": {
   "display_name": "venv",
   "language": "python",
   "name": "python3"
  },
  "language_info": {
   "codemirror_mode": {
    "name": "ipython",
    "version": 3
   },
   "file_extension": ".py",
   "mimetype": "text/x-python",
   "name": "python",
   "nbconvert_exporter": "python",
   "pygments_lexer": "ipython3",
   "version": "3.10.12"
  }
 },
 "nbformat": 4,
 "nbformat_minor": 2
}
